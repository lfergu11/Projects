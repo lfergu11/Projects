{
 "cells": [
  {
   "cell_type": "markdown",
   "metadata": {},
   "source": [
    "# Megaline Plans Revenue Analysis\n",
    "\n",
    "## Introduction\n",
    "\n",
    "In this project, I am working with a sample of data from 500 Megaline clients. Megaline is a telecom operator that offers its clients two prepaid plans, Surf and Ultimate. For these plans, Megaline rounds seconds up to minutes for each individual call, and rounds megabytes to gigabytes for each month of service. Using this data, I will be analyzing the clients' behavior to determine which of these prepaid plan brings in more revenue. This analysis will be used by the commercial department in order to adjust the advertising budget. \n",
    "\n",
    "There are five datasets that I will be using for my analysis. These datasets consist of:\n",
    "1. Megaline Calls: where each row corresponds with an individual call made by a client\n",
    "2. Megaline Internet: where each row corresponds to an individual web traffic useage\n",
    "3. Megaline Messages: where each row corresponds to an individual text message\n",
    "4. Megaline Plans: where each row corresponds to the details of each prepaid plan\n",
    "5. Megaline Users: where each row corresponds to an individual Megaline client and some basic info on the client"
   ]
  },
  {
   "cell_type": "markdown",
   "metadata": {},
   "source": [
    "### Stages\n",
    "\n",
    "1. Introduction\n",
    "2. Data Preprocessing\n",
    "3. Feature Engineering\n",
    "4. Aggregate Data\n",
    "5. Exploratory Data Analysis\n",
    "6. Statistical Testing\n",
    "7. General Conclusions"
   ]
  },
  {
   "cell_type": "markdown",
   "metadata": {},
   "source": [
    "# Data Preprocessing"
   ]
  },
  {
   "cell_type": "code",
   "execution_count": 1,
   "metadata": {},
   "outputs": [],
   "source": [
    "# Loading all the libraries\n",
    "from scipy import stats as st\n",
    "from matplotlib import pyplot as plt\n",
    "import pandas as pd\n",
    "import numpy as np"
   ]
  },
  {
   "cell_type": "code",
   "execution_count": 2,
   "metadata": {},
   "outputs": [],
   "source": [
    "# Load the data files into different DataFrames\n",
    "plans=pd.read_csv('megaline_plans.csv')\n",
    "calls=pd.read_csv('megaline_calls.csv')\n",
    "users=pd.read_csv('megaline_users.csv')\n",
    "internet=pd.read_csv('megaline_internet.csv')\n",
    "messages=pd.read_csv('megaline_messages.csv')"
   ]
  },
  {
   "cell_type": "markdown",
   "metadata": {},
   "source": [
    "### `plans` df"
   ]
  },
  {
   "cell_type": "code",
   "execution_count": 3,
   "metadata": {},
   "outputs": [
    {
     "name": "stdout",
     "output_type": "stream",
     "text": [
      "<class 'pandas.core.frame.DataFrame'>\n",
      "RangeIndex: 2 entries, 0 to 1\n",
      "Data columns (total 8 columns):\n",
      " #   Column                 Non-Null Count  Dtype  \n",
      "---  ------                 --------------  -----  \n",
      " 0   messages_included      2 non-null      int64  \n",
      " 1   mb_per_month_included  2 non-null      int64  \n",
      " 2   minutes_included       2 non-null      int64  \n",
      " 3   usd_monthly_pay        2 non-null      int64  \n",
      " 4   usd_per_gb             2 non-null      int64  \n",
      " 5   usd_per_message        2 non-null      float64\n",
      " 6   usd_per_minute         2 non-null      float64\n",
      " 7   plan_name              2 non-null      object \n",
      "dtypes: float64(2), int64(5), object(1)\n",
      "memory usage: 256.0+ bytes\n"
     ]
    }
   ],
   "source": [
    "# Print the general information about the plans' DataFrame\n",
    "plans.info()"
   ]
  },
  {
   "cell_type": "code",
   "execution_count": 4,
   "metadata": {},
   "outputs": [
    {
     "data": {
      "text/html": [
       "<div>\n",
       "<style scoped>\n",
       "    .dataframe tbody tr th:only-of-type {\n",
       "        vertical-align: middle;\n",
       "    }\n",
       "\n",
       "    .dataframe tbody tr th {\n",
       "        vertical-align: top;\n",
       "    }\n",
       "\n",
       "    .dataframe thead th {\n",
       "        text-align: right;\n",
       "    }\n",
       "</style>\n",
       "<table border=\"1\" class=\"dataframe\">\n",
       "  <thead>\n",
       "    <tr style=\"text-align: right;\">\n",
       "      <th></th>\n",
       "      <th>messages_included</th>\n",
       "      <th>mb_per_month_included</th>\n",
       "      <th>minutes_included</th>\n",
       "      <th>usd_monthly_pay</th>\n",
       "      <th>usd_per_gb</th>\n",
       "      <th>usd_per_message</th>\n",
       "      <th>usd_per_minute</th>\n",
       "      <th>plan_name</th>\n",
       "    </tr>\n",
       "  </thead>\n",
       "  <tbody>\n",
       "    <tr>\n",
       "      <th>0</th>\n",
       "      <td>50</td>\n",
       "      <td>15360</td>\n",
       "      <td>500</td>\n",
       "      <td>20</td>\n",
       "      <td>10</td>\n",
       "      <td>0.03</td>\n",
       "      <td>0.03</td>\n",
       "      <td>surf</td>\n",
       "    </tr>\n",
       "    <tr>\n",
       "      <th>1</th>\n",
       "      <td>1000</td>\n",
       "      <td>30720</td>\n",
       "      <td>3000</td>\n",
       "      <td>70</td>\n",
       "      <td>7</td>\n",
       "      <td>0.01</td>\n",
       "      <td>0.01</td>\n",
       "      <td>ultimate</td>\n",
       "    </tr>\n",
       "  </tbody>\n",
       "</table>\n",
       "</div>"
      ],
      "text/plain": [
       "   messages_included  mb_per_month_included  minutes_included  \\\n",
       "0                 50                  15360               500   \n",
       "1               1000                  30720              3000   \n",
       "\n",
       "   usd_monthly_pay  usd_per_gb  usd_per_message  usd_per_minute plan_name  \n",
       "0               20          10             0.03            0.03      surf  \n",
       "1               70           7             0.01            0.01  ultimate  "
      ]
     },
     "execution_count": 4,
     "metadata": {},
     "output_type": "execute_result"
    }
   ],
   "source": [
    "# Print data for plans\n",
    "plans"
   ]
  },
  {
   "cell_type": "markdown",
   "metadata": {},
   "source": [
    "### `calls` Dataframe"
   ]
  },
  {
   "cell_type": "code",
   "execution_count": 5,
   "metadata": {},
   "outputs": [
    {
     "name": "stdout",
     "output_type": "stream",
     "text": [
      "<class 'pandas.core.frame.DataFrame'>\n",
      "RangeIndex: 137735 entries, 0 to 137734\n",
      "Data columns (total 4 columns):\n",
      " #   Column     Non-Null Count   Dtype  \n",
      "---  ------     --------------   -----  \n",
      " 0   id         137735 non-null  object \n",
      " 1   user_id    137735 non-null  int64  \n",
      " 2   call_date  137735 non-null  object \n",
      " 3   duration   137735 non-null  float64\n",
      "dtypes: float64(1), int64(1), object(2)\n",
      "memory usage: 4.2+ MB\n"
     ]
    }
   ],
   "source": [
    "# Print the general/summary information about the calls' DataFrame\n",
    "calls.info()"
   ]
  },
  {
   "cell_type": "code",
   "execution_count": 6,
   "metadata": {},
   "outputs": [
    {
     "data": {
      "text/html": [
       "<div>\n",
       "<style scoped>\n",
       "    .dataframe tbody tr th:only-of-type {\n",
       "        vertical-align: middle;\n",
       "    }\n",
       "\n",
       "    .dataframe tbody tr th {\n",
       "        vertical-align: top;\n",
       "    }\n",
       "\n",
       "    .dataframe thead th {\n",
       "        text-align: right;\n",
       "    }\n",
       "</style>\n",
       "<table border=\"1\" class=\"dataframe\">\n",
       "  <thead>\n",
       "    <tr style=\"text-align: right;\">\n",
       "      <th></th>\n",
       "      <th>id</th>\n",
       "      <th>user_id</th>\n",
       "      <th>call_date</th>\n",
       "      <th>duration</th>\n",
       "    </tr>\n",
       "  </thead>\n",
       "  <tbody>\n",
       "    <tr>\n",
       "      <th>106815</th>\n",
       "      <td>1379_13</td>\n",
       "      <td>1379</td>\n",
       "      <td>2018-12-06</td>\n",
       "      <td>19.60</td>\n",
       "    </tr>\n",
       "    <tr>\n",
       "      <th>15251</th>\n",
       "      <td>1061_193</td>\n",
       "      <td>1061</td>\n",
       "      <td>2018-05-17</td>\n",
       "      <td>4.51</td>\n",
       "    </tr>\n",
       "    <tr>\n",
       "      <th>119352</th>\n",
       "      <td>1415_400</td>\n",
       "      <td>1415</td>\n",
       "      <td>2018-07-11</td>\n",
       "      <td>13.71</td>\n",
       "    </tr>\n",
       "    <tr>\n",
       "      <th>126598</th>\n",
       "      <td>1450_92</td>\n",
       "      <td>1450</td>\n",
       "      <td>2018-12-25</td>\n",
       "      <td>0.00</td>\n",
       "    </tr>\n",
       "    <tr>\n",
       "      <th>41026</th>\n",
       "      <td>1151_204</td>\n",
       "      <td>1151</td>\n",
       "      <td>2018-12-26</td>\n",
       "      <td>15.27</td>\n",
       "    </tr>\n",
       "  </tbody>\n",
       "</table>\n",
       "</div>"
      ],
      "text/plain": [
       "              id  user_id   call_date  duration\n",
       "106815   1379_13     1379  2018-12-06     19.60\n",
       "15251   1061_193     1061  2018-05-17      4.51\n",
       "119352  1415_400     1415  2018-07-11     13.71\n",
       "126598   1450_92     1450  2018-12-25      0.00\n",
       "41026   1151_204     1151  2018-12-26     15.27"
      ]
     },
     "execution_count": 6,
     "metadata": {},
     "output_type": "execute_result"
    }
   ],
   "source": [
    "# Print a sample of data for calls\n",
    "calls.sample(5,random_state=999)"
   ]
  },
  {
   "cell_type": "code",
   "execution_count": 7,
   "metadata": {},
   "outputs": [],
   "source": [
    "# Change call_date column to datetime data type\n",
    "# Round duration column up to the next minute and change to the integer data type\n",
    "calls.call_date= pd.to_datetime(calls.call_date,format='%Y-%m-%d')\n",
    "calls.duration = calls.duration.apply(np.ceil).astype('int')"
   ]
  },
  {
   "cell_type": "code",
   "execution_count": 8,
   "metadata": {},
   "outputs": [
    {
     "data": {
      "text/plain": [
       "0"
      ]
     },
     "execution_count": 8,
     "metadata": {},
     "output_type": "execute_result"
    }
   ],
   "source": [
    "# Check for duplicate values\n",
    "calls.duplicated().sum()"
   ]
  },
  {
   "cell_type": "code",
   "execution_count": 9,
   "metadata": {},
   "outputs": [
    {
     "name": "stdout",
     "output_type": "stream",
     "text": [
      "<class 'pandas.core.frame.DataFrame'>\n",
      "RangeIndex: 137735 entries, 0 to 137734\n",
      "Data columns (total 4 columns):\n",
      " #   Column     Non-Null Count   Dtype         \n",
      "---  ------     --------------   -----         \n",
      " 0   id         137735 non-null  object        \n",
      " 1   user_id    137735 non-null  int64         \n",
      " 2   call_date  137735 non-null  datetime64[ns]\n",
      " 3   duration   137735 non-null  int64         \n",
      "dtypes: datetime64[ns](1), int64(2), object(1)\n",
      "memory usage: 4.2+ MB\n"
     ]
    },
    {
     "data": {
      "text/html": [
       "<div>\n",
       "<style scoped>\n",
       "    .dataframe tbody tr th:only-of-type {\n",
       "        vertical-align: middle;\n",
       "    }\n",
       "\n",
       "    .dataframe tbody tr th {\n",
       "        vertical-align: top;\n",
       "    }\n",
       "\n",
       "    .dataframe thead th {\n",
       "        text-align: right;\n",
       "    }\n",
       "</style>\n",
       "<table border=\"1\" class=\"dataframe\">\n",
       "  <thead>\n",
       "    <tr style=\"text-align: right;\">\n",
       "      <th></th>\n",
       "      <th>id</th>\n",
       "      <th>user_id</th>\n",
       "      <th>call_date</th>\n",
       "      <th>duration</th>\n",
       "    </tr>\n",
       "  </thead>\n",
       "  <tbody>\n",
       "    <tr>\n",
       "      <th>106815</th>\n",
       "      <td>1379_13</td>\n",
       "      <td>1379</td>\n",
       "      <td>2018-12-06</td>\n",
       "      <td>20</td>\n",
       "    </tr>\n",
       "    <tr>\n",
       "      <th>15251</th>\n",
       "      <td>1061_193</td>\n",
       "      <td>1061</td>\n",
       "      <td>2018-05-17</td>\n",
       "      <td>5</td>\n",
       "    </tr>\n",
       "    <tr>\n",
       "      <th>119352</th>\n",
       "      <td>1415_400</td>\n",
       "      <td>1415</td>\n",
       "      <td>2018-07-11</td>\n",
       "      <td>14</td>\n",
       "    </tr>\n",
       "    <tr>\n",
       "      <th>126598</th>\n",
       "      <td>1450_92</td>\n",
       "      <td>1450</td>\n",
       "      <td>2018-12-25</td>\n",
       "      <td>0</td>\n",
       "    </tr>\n",
       "    <tr>\n",
       "      <th>41026</th>\n",
       "      <td>1151_204</td>\n",
       "      <td>1151</td>\n",
       "      <td>2018-12-26</td>\n",
       "      <td>16</td>\n",
       "    </tr>\n",
       "  </tbody>\n",
       "</table>\n",
       "</div>"
      ],
      "text/plain": [
       "              id  user_id  call_date  duration\n",
       "106815   1379_13     1379 2018-12-06        20\n",
       "15251   1061_193     1061 2018-05-17         5\n",
       "119352  1415_400     1415 2018-07-11        14\n",
       "126598   1450_92     1450 2018-12-25         0\n",
       "41026   1151_204     1151 2018-12-26        16"
      ]
     },
     "execution_count": 9,
     "metadata": {},
     "output_type": "execute_result"
    }
   ],
   "source": [
    "# Double check that changes are correct\n",
    "calls.info()\n",
    "calls.sample(5,random_state=999)"
   ]
  },
  {
   "cell_type": "markdown",
   "metadata": {},
   "source": [
    "### `users` df"
   ]
  },
  {
   "cell_type": "code",
   "execution_count": 10,
   "metadata": {},
   "outputs": [
    {
     "name": "stdout",
     "output_type": "stream",
     "text": [
      "<class 'pandas.core.frame.DataFrame'>\n",
      "RangeIndex: 500 entries, 0 to 499\n",
      "Data columns (total 8 columns):\n",
      " #   Column      Non-Null Count  Dtype \n",
      "---  ------      --------------  ----- \n",
      " 0   user_id     500 non-null    int64 \n",
      " 1   first_name  500 non-null    object\n",
      " 2   last_name   500 non-null    object\n",
      " 3   age         500 non-null    int64 \n",
      " 4   city        500 non-null    object\n",
      " 5   reg_date    500 non-null    object\n",
      " 6   plan        500 non-null    object\n",
      " 7   churn_date  34 non-null     object\n",
      "dtypes: int64(2), object(6)\n",
      "memory usage: 31.4+ KB\n"
     ]
    }
   ],
   "source": [
    "# Print the general information about the users' DataFrame\n",
    "users.info()"
   ]
  },
  {
   "cell_type": "code",
   "execution_count": 11,
   "metadata": {},
   "outputs": [
    {
     "data": {
      "text/html": [
       "<div>\n",
       "<style scoped>\n",
       "    .dataframe tbody tr th:only-of-type {\n",
       "        vertical-align: middle;\n",
       "    }\n",
       "\n",
       "    .dataframe tbody tr th {\n",
       "        vertical-align: top;\n",
       "    }\n",
       "\n",
       "    .dataframe thead th {\n",
       "        text-align: right;\n",
       "    }\n",
       "</style>\n",
       "<table border=\"1\" class=\"dataframe\">\n",
       "  <thead>\n",
       "    <tr style=\"text-align: right;\">\n",
       "      <th></th>\n",
       "      <th>user_id</th>\n",
       "      <th>first_name</th>\n",
       "      <th>last_name</th>\n",
       "      <th>age</th>\n",
       "      <th>city</th>\n",
       "      <th>reg_date</th>\n",
       "      <th>plan</th>\n",
       "      <th>churn_date</th>\n",
       "    </tr>\n",
       "  </thead>\n",
       "  <tbody>\n",
       "    <tr>\n",
       "      <th>490</th>\n",
       "      <td>1490</td>\n",
       "      <td>Shane</td>\n",
       "      <td>Cortez</td>\n",
       "      <td>42</td>\n",
       "      <td>Sacramento–Roseville–Folsom, CA MSA</td>\n",
       "      <td>2018-01-20</td>\n",
       "      <td>ultimate</td>\n",
       "      <td>NaN</td>\n",
       "    </tr>\n",
       "    <tr>\n",
       "      <th>255</th>\n",
       "      <td>1255</td>\n",
       "      <td>Kennith</td>\n",
       "      <td>Rowland</td>\n",
       "      <td>22</td>\n",
       "      <td>Oklahoma City, OK MSA</td>\n",
       "      <td>2018-08-01</td>\n",
       "      <td>ultimate</td>\n",
       "      <td>NaN</td>\n",
       "    </tr>\n",
       "    <tr>\n",
       "      <th>434</th>\n",
       "      <td>1434</td>\n",
       "      <td>Kai</td>\n",
       "      <td>Barr</td>\n",
       "      <td>18</td>\n",
       "      <td>New York-Newark-Jersey City, NY-NJ-PA MSA</td>\n",
       "      <td>2018-03-06</td>\n",
       "      <td>surf</td>\n",
       "      <td>NaN</td>\n",
       "    </tr>\n",
       "    <tr>\n",
       "      <th>369</th>\n",
       "      <td>1369</td>\n",
       "      <td>Bernard</td>\n",
       "      <td>Mckee</td>\n",
       "      <td>69</td>\n",
       "      <td>Milwaukee-Waukesha, WI MSA</td>\n",
       "      <td>2018-10-06</td>\n",
       "      <td>surf</td>\n",
       "      <td>NaN</td>\n",
       "    </tr>\n",
       "    <tr>\n",
       "      <th>241</th>\n",
       "      <td>1241</td>\n",
       "      <td>Lala</td>\n",
       "      <td>Walls</td>\n",
       "      <td>24</td>\n",
       "      <td>Richmond, VA MSA</td>\n",
       "      <td>2018-08-27</td>\n",
       "      <td>surf</td>\n",
       "      <td>NaN</td>\n",
       "    </tr>\n",
       "  </tbody>\n",
       "</table>\n",
       "</div>"
      ],
      "text/plain": [
       "     user_id first_name last_name  age  \\\n",
       "490     1490      Shane    Cortez   42   \n",
       "255     1255    Kennith   Rowland   22   \n",
       "434     1434        Kai      Barr   18   \n",
       "369     1369    Bernard     Mckee   69   \n",
       "241     1241       Lala     Walls   24   \n",
       "\n",
       "                                          city    reg_date      plan  \\\n",
       "490        Sacramento–Roseville–Folsom, CA MSA  2018-01-20  ultimate   \n",
       "255                      Oklahoma City, OK MSA  2018-08-01  ultimate   \n",
       "434  New York-Newark-Jersey City, NY-NJ-PA MSA  2018-03-06      surf   \n",
       "369                 Milwaukee-Waukesha, WI MSA  2018-10-06      surf   \n",
       "241                           Richmond, VA MSA  2018-08-27      surf   \n",
       "\n",
       "    churn_date  \n",
       "490        NaN  \n",
       "255        NaN  \n",
       "434        NaN  \n",
       "369        NaN  \n",
       "241        NaN  "
      ]
     },
     "execution_count": 11,
     "metadata": {},
     "output_type": "execute_result"
    }
   ],
   "source": [
    "# Print a sample of data for users\n",
    "users.sample(5)"
   ]
  },
  {
   "cell_type": "code",
   "execution_count": 12,
   "metadata": {},
   "outputs": [],
   "source": [
    "# Change reg_date column to datetime data type\n",
    "# Change plan column to category data type\n",
    "users.reg_date = pd.to_datetime(users.reg_date, format='%Y-%m-%d')\n",
    "users.plan = users.plan.astype('category')"
   ]
  },
  {
   "cell_type": "code",
   "execution_count": 13,
   "metadata": {},
   "outputs": [
    {
     "data": {
      "text/plain": [
       "0"
      ]
     },
     "execution_count": 13,
     "metadata": {},
     "output_type": "execute_result"
    }
   ],
   "source": [
    "# Check for duplicate values\n",
    "users.duplicated().sum()"
   ]
  },
  {
   "cell_type": "code",
   "execution_count": 14,
   "metadata": {},
   "outputs": [
    {
     "data": {
      "text/plain": [
       "['ultimate', 'surf']\n",
       "Categories (2, object): ['surf', 'ultimate']"
      ]
     },
     "execution_count": 14,
     "metadata": {},
     "output_type": "execute_result"
    }
   ],
   "source": [
    "# Check for unique values in the plan column\n",
    "users.plan.unique()"
   ]
  },
  {
   "cell_type": "code",
   "execution_count": 15,
   "metadata": {},
   "outputs": [
    {
     "name": "stdout",
     "output_type": "stream",
     "text": [
      "<class 'pandas.core.frame.DataFrame'>\n",
      "RangeIndex: 500 entries, 0 to 499\n",
      "Data columns (total 8 columns):\n",
      " #   Column      Non-Null Count  Dtype         \n",
      "---  ------      --------------  -----         \n",
      " 0   user_id     500 non-null    int64         \n",
      " 1   first_name  500 non-null    object        \n",
      " 2   last_name   500 non-null    object        \n",
      " 3   age         500 non-null    int64         \n",
      " 4   city        500 non-null    object        \n",
      " 5   reg_date    500 non-null    datetime64[ns]\n",
      " 6   plan        500 non-null    category      \n",
      " 7   churn_date  34 non-null     object        \n",
      "dtypes: category(1), datetime64[ns](1), int64(2), object(4)\n",
      "memory usage: 28.1+ KB\n"
     ]
    }
   ],
   "source": [
    "# Double check that changes are correct\n",
    "users.info()"
   ]
  },
  {
   "cell_type": "markdown",
   "metadata": {},
   "source": [
    "### `internet` df"
   ]
  },
  {
   "cell_type": "code",
   "execution_count": 16,
   "metadata": {},
   "outputs": [
    {
     "name": "stdout",
     "output_type": "stream",
     "text": [
      "<class 'pandas.core.frame.DataFrame'>\n",
      "RangeIndex: 104825 entries, 0 to 104824\n",
      "Data columns (total 4 columns):\n",
      " #   Column        Non-Null Count   Dtype  \n",
      "---  ------        --------------   -----  \n",
      " 0   id            104825 non-null  object \n",
      " 1   user_id       104825 non-null  int64  \n",
      " 2   session_date  104825 non-null  object \n",
      " 3   mb_used       104825 non-null  float64\n",
      "dtypes: float64(1), int64(1), object(2)\n",
      "memory usage: 3.2+ MB\n"
     ]
    }
   ],
   "source": [
    "# Print the general/summary information about the internet DataFrame\n",
    "internet.info()"
   ]
  },
  {
   "cell_type": "code",
   "execution_count": 17,
   "metadata": {},
   "outputs": [
    {
     "data": {
      "text/html": [
       "<div>\n",
       "<style scoped>\n",
       "    .dataframe tbody tr th:only-of-type {\n",
       "        vertical-align: middle;\n",
       "    }\n",
       "\n",
       "    .dataframe tbody tr th {\n",
       "        vertical-align: top;\n",
       "    }\n",
       "\n",
       "    .dataframe thead th {\n",
       "        text-align: right;\n",
       "    }\n",
       "</style>\n",
       "<table border=\"1\" class=\"dataframe\">\n",
       "  <thead>\n",
       "    <tr style=\"text-align: right;\">\n",
       "      <th></th>\n",
       "      <th>id</th>\n",
       "      <th>user_id</th>\n",
       "      <th>session_date</th>\n",
       "      <th>mb_used</th>\n",
       "    </tr>\n",
       "  </thead>\n",
       "  <tbody>\n",
       "    <tr>\n",
       "      <th>75485</th>\n",
       "      <td>1355_170</td>\n",
       "      <td>1355</td>\n",
       "      <td>2018-12-20</td>\n",
       "      <td>165.78</td>\n",
       "    </tr>\n",
       "    <tr>\n",
       "      <th>32846</th>\n",
       "      <td>1147_498</td>\n",
       "      <td>1147</td>\n",
       "      <td>2018-05-18</td>\n",
       "      <td>546.49</td>\n",
       "    </tr>\n",
       "    <tr>\n",
       "      <th>67781</th>\n",
       "      <td>1315_17</td>\n",
       "      <td>1315</td>\n",
       "      <td>2018-12-14</td>\n",
       "      <td>139.55</td>\n",
       "    </tr>\n",
       "    <tr>\n",
       "      <th>22021</th>\n",
       "      <td>1100_225</td>\n",
       "      <td>1100</td>\n",
       "      <td>2018-11-29</td>\n",
       "      <td>0.00</td>\n",
       "    </tr>\n",
       "    <tr>\n",
       "      <th>81554</th>\n",
       "      <td>1382_141</td>\n",
       "      <td>1382</td>\n",
       "      <td>2018-12-09</td>\n",
       "      <td>0.00</td>\n",
       "    </tr>\n",
       "  </tbody>\n",
       "</table>\n",
       "</div>"
      ],
      "text/plain": [
       "             id  user_id session_date  mb_used\n",
       "75485  1355_170     1355   2018-12-20   165.78\n",
       "32846  1147_498     1147   2018-05-18   546.49\n",
       "67781   1315_17     1315   2018-12-14   139.55\n",
       "22021  1100_225     1100   2018-11-29     0.00\n",
       "81554  1382_141     1382   2018-12-09     0.00"
      ]
     },
     "execution_count": 17,
     "metadata": {},
     "output_type": "execute_result"
    }
   ],
   "source": [
    "# Print a sample of data for the internet traffic\n",
    "internet.sample(5)"
   ]
  },
  {
   "cell_type": "code",
   "execution_count": 18,
   "metadata": {},
   "outputs": [],
   "source": [
    "# Change the session_date column to the datetime data type\n",
    "internet.session_date = pd.to_datetime(internet.session_date,format='%Y-%m-%d')"
   ]
  },
  {
   "cell_type": "code",
   "execution_count": 19,
   "metadata": {},
   "outputs": [
    {
     "data": {
      "text/plain": [
       "0"
      ]
     },
     "execution_count": 19,
     "metadata": {},
     "output_type": "execute_result"
    }
   ],
   "source": [
    "# Check for duplicate values\n",
    "internet.duplicated().sum()"
   ]
  },
  {
   "cell_type": "markdown",
   "metadata": {},
   "source": [
    "### `messages` df"
   ]
  },
  {
   "cell_type": "code",
   "execution_count": 20,
   "metadata": {},
   "outputs": [
    {
     "name": "stdout",
     "output_type": "stream",
     "text": [
      "<class 'pandas.core.frame.DataFrame'>\n",
      "RangeIndex: 76051 entries, 0 to 76050\n",
      "Data columns (total 3 columns):\n",
      " #   Column        Non-Null Count  Dtype \n",
      "---  ------        --------------  ----- \n",
      " 0   id            76051 non-null  object\n",
      " 1   user_id       76051 non-null  int64 \n",
      " 2   message_date  76051 non-null  object\n",
      "dtypes: int64(1), object(2)\n",
      "memory usage: 1.7+ MB\n"
     ]
    }
   ],
   "source": [
    "# Print the general/summary information about the messages' DataFrame\n",
    "messages.info()"
   ]
  },
  {
   "cell_type": "code",
   "execution_count": 21,
   "metadata": {},
   "outputs": [
    {
     "data": {
      "text/html": [
       "<div>\n",
       "<style scoped>\n",
       "    .dataframe tbody tr th:only-of-type {\n",
       "        vertical-align: middle;\n",
       "    }\n",
       "\n",
       "    .dataframe tbody tr th {\n",
       "        vertical-align: top;\n",
       "    }\n",
       "\n",
       "    .dataframe thead th {\n",
       "        text-align: right;\n",
       "    }\n",
       "</style>\n",
       "<table border=\"1\" class=\"dataframe\">\n",
       "  <thead>\n",
       "    <tr style=\"text-align: right;\">\n",
       "      <th></th>\n",
       "      <th>id</th>\n",
       "      <th>user_id</th>\n",
       "      <th>message_date</th>\n",
       "    </tr>\n",
       "  </thead>\n",
       "  <tbody>\n",
       "    <tr>\n",
       "      <th>2788</th>\n",
       "      <td>1028_718</td>\n",
       "      <td>1028</td>\n",
       "      <td>2018-03-17</td>\n",
       "    </tr>\n",
       "    <tr>\n",
       "      <th>4946</th>\n",
       "      <td>1046_8</td>\n",
       "      <td>1046</td>\n",
       "      <td>2018-08-11</td>\n",
       "    </tr>\n",
       "    <tr>\n",
       "      <th>51181</th>\n",
       "      <td>1331_356</td>\n",
       "      <td>1331</td>\n",
       "      <td>2018-09-04</td>\n",
       "    </tr>\n",
       "    <tr>\n",
       "      <th>30907</th>\n",
       "      <td>1194_66</td>\n",
       "      <td>1194</td>\n",
       "      <td>2018-12-13</td>\n",
       "    </tr>\n",
       "    <tr>\n",
       "      <th>57838</th>\n",
       "      <td>1364_169</td>\n",
       "      <td>1364</td>\n",
       "      <td>2018-12-29</td>\n",
       "    </tr>\n",
       "  </tbody>\n",
       "</table>\n",
       "</div>"
      ],
      "text/plain": [
       "             id  user_id message_date\n",
       "2788   1028_718     1028   2018-03-17\n",
       "4946     1046_8     1046   2018-08-11\n",
       "51181  1331_356     1331   2018-09-04\n",
       "30907   1194_66     1194   2018-12-13\n",
       "57838  1364_169     1364   2018-12-29"
      ]
     },
     "execution_count": 21,
     "metadata": {},
     "output_type": "execute_result"
    }
   ],
   "source": [
    "# Print a sample of data for messages\n",
    "messages.sample(5)"
   ]
  },
  {
   "cell_type": "code",
   "execution_count": 22,
   "metadata": {},
   "outputs": [],
   "source": [
    "# Change the message_date column to the datetime data type\n",
    "messages.message_date = pd.to_datetime(messages.message_date,format='%Y-%m-%d')"
   ]
  },
  {
   "cell_type": "code",
   "execution_count": 23,
   "metadata": {},
   "outputs": [
    {
     "data": {
      "text/plain": [
       "0"
      ]
     },
     "execution_count": 23,
     "metadata": {},
     "output_type": "execute_result"
    }
   ],
   "source": [
    "# Check for duplicate values\n",
    "messages.duplicated().sum()"
   ]
  },
  {
   "cell_type": "markdown",
   "metadata": {},
   "source": [
    "## Feature Engineering"
   ]
  },
  {
   "cell_type": "code",
   "execution_count": 24,
   "metadata": {},
   "outputs": [],
   "source": [
    "# Create a year, month & date column from the call_date column for the calls df\n",
    "calls['year']=calls.call_date.dt.year\n",
    "calls['month']=calls.call_date.dt.month\n",
    "calls['day']=calls.call_date.dt.day\n",
    "calls['dow']=calls.call_date.dt.dayofweek"
   ]
  },
  {
   "cell_type": "code",
   "execution_count": 25,
   "metadata": {},
   "outputs": [
    {
     "name": "stdout",
     "output_type": "stream",
     "text": [
      "<class 'pandas.core.frame.DataFrame'>\n",
      "RangeIndex: 137735 entries, 0 to 137734\n",
      "Data columns (total 8 columns):\n",
      " #   Column     Non-Null Count   Dtype         \n",
      "---  ------     --------------   -----         \n",
      " 0   id         137735 non-null  object        \n",
      " 1   user_id    137735 non-null  int64         \n",
      " 2   call_date  137735 non-null  datetime64[ns]\n",
      " 3   duration   137735 non-null  int64         \n",
      " 4   year       137735 non-null  int32         \n",
      " 5   month      137735 non-null  int32         \n",
      " 6   day        137735 non-null  int32         \n",
      " 7   dow        137735 non-null  int32         \n",
      "dtypes: datetime64[ns](1), int32(4), int64(2), object(1)\n",
      "memory usage: 6.3+ MB\n"
     ]
    },
    {
     "data": {
      "text/html": [
       "<div>\n",
       "<style scoped>\n",
       "    .dataframe tbody tr th:only-of-type {\n",
       "        vertical-align: middle;\n",
       "    }\n",
       "\n",
       "    .dataframe tbody tr th {\n",
       "        vertical-align: top;\n",
       "    }\n",
       "\n",
       "    .dataframe thead th {\n",
       "        text-align: right;\n",
       "    }\n",
       "</style>\n",
       "<table border=\"1\" class=\"dataframe\">\n",
       "  <thead>\n",
       "    <tr style=\"text-align: right;\">\n",
       "      <th></th>\n",
       "      <th>id</th>\n",
       "      <th>user_id</th>\n",
       "      <th>call_date</th>\n",
       "      <th>duration</th>\n",
       "      <th>year</th>\n",
       "      <th>month</th>\n",
       "      <th>day</th>\n",
       "      <th>dow</th>\n",
       "    </tr>\n",
       "  </thead>\n",
       "  <tbody>\n",
       "    <tr>\n",
       "      <th>4801</th>\n",
       "      <td>1022_67</td>\n",
       "      <td>1022</td>\n",
       "      <td>2018-09-16</td>\n",
       "      <td>0</td>\n",
       "      <td>2018</td>\n",
       "      <td>9</td>\n",
       "      <td>16</td>\n",
       "      <td>6</td>\n",
       "    </tr>\n",
       "    <tr>\n",
       "      <th>16436</th>\n",
       "      <td>1064_294</td>\n",
       "      <td>1064</td>\n",
       "      <td>2018-11-25</td>\n",
       "      <td>14</td>\n",
       "      <td>2018</td>\n",
       "      <td>11</td>\n",
       "      <td>25</td>\n",
       "      <td>6</td>\n",
       "    </tr>\n",
       "    <tr>\n",
       "      <th>109463</th>\n",
       "      <td>1385_533</td>\n",
       "      <td>1385</td>\n",
       "      <td>2018-12-10</td>\n",
       "      <td>2</td>\n",
       "      <td>2018</td>\n",
       "      <td>12</td>\n",
       "      <td>10</td>\n",
       "      <td>0</td>\n",
       "    </tr>\n",
       "    <tr>\n",
       "      <th>57494</th>\n",
       "      <td>1206_275</td>\n",
       "      <td>1206</td>\n",
       "      <td>2018-12-16</td>\n",
       "      <td>7</td>\n",
       "      <td>2018</td>\n",
       "      <td>12</td>\n",
       "      <td>16</td>\n",
       "      <td>6</td>\n",
       "    </tr>\n",
       "    <tr>\n",
       "      <th>123479</th>\n",
       "      <td>1435_109</td>\n",
       "      <td>1435</td>\n",
       "      <td>2018-10-22</td>\n",
       "      <td>8</td>\n",
       "      <td>2018</td>\n",
       "      <td>10</td>\n",
       "      <td>22</td>\n",
       "      <td>0</td>\n",
       "    </tr>\n",
       "  </tbody>\n",
       "</table>\n",
       "</div>"
      ],
      "text/plain": [
       "              id  user_id  call_date  duration  year  month  day  dow\n",
       "4801     1022_67     1022 2018-09-16         0  2018      9   16    6\n",
       "16436   1064_294     1064 2018-11-25        14  2018     11   25    6\n",
       "109463  1385_533     1385 2018-12-10         2  2018     12   10    0\n",
       "57494   1206_275     1206 2018-12-16         7  2018     12   16    6\n",
       "123479  1435_109     1435 2018-10-22         8  2018     10   22    0"
      ]
     },
     "execution_count": 25,
     "metadata": {},
     "output_type": "execute_result"
    }
   ],
   "source": [
    "# Check that changes are correct\n",
    "calls.info()\n",
    "calls.sample(5)"
   ]
  },
  {
   "cell_type": "code",
   "execution_count": 26,
   "metadata": {},
   "outputs": [],
   "source": [
    "# Create year, month, day & day of week columns from the message_date column\n",
    "messages['year']=messages.message_date.dt.year\n",
    "messages['month']=messages.message_date.dt.month\n",
    "messages['day']=messages.message_date.dt.day\n",
    "messages['dow']=messages.message_date.dt.dayofweek"
   ]
  },
  {
   "cell_type": "code",
   "execution_count": 27,
   "metadata": {},
   "outputs": [
    {
     "name": "stdout",
     "output_type": "stream",
     "text": [
      "<class 'pandas.core.frame.DataFrame'>\n",
      "RangeIndex: 76051 entries, 0 to 76050\n",
      "Data columns (total 7 columns):\n",
      " #   Column        Non-Null Count  Dtype         \n",
      "---  ------        --------------  -----         \n",
      " 0   id            76051 non-null  object        \n",
      " 1   user_id       76051 non-null  int64         \n",
      " 2   message_date  76051 non-null  datetime64[ns]\n",
      " 3   year          76051 non-null  int32         \n",
      " 4   month         76051 non-null  int32         \n",
      " 5   day           76051 non-null  int32         \n",
      " 6   dow           76051 non-null  int32         \n",
      "dtypes: datetime64[ns](1), int32(4), int64(1), object(1)\n",
      "memory usage: 2.9+ MB\n"
     ]
    },
    {
     "data": {
      "text/html": [
       "<div>\n",
       "<style scoped>\n",
       "    .dataframe tbody tr th:only-of-type {\n",
       "        vertical-align: middle;\n",
       "    }\n",
       "\n",
       "    .dataframe tbody tr th {\n",
       "        vertical-align: top;\n",
       "    }\n",
       "\n",
       "    .dataframe thead th {\n",
       "        text-align: right;\n",
       "    }\n",
       "</style>\n",
       "<table border=\"1\" class=\"dataframe\">\n",
       "  <thead>\n",
       "    <tr style=\"text-align: right;\">\n",
       "      <th></th>\n",
       "      <th>id</th>\n",
       "      <th>user_id</th>\n",
       "      <th>message_date</th>\n",
       "      <th>year</th>\n",
       "      <th>month</th>\n",
       "      <th>day</th>\n",
       "      <th>dow</th>\n",
       "    </tr>\n",
       "  </thead>\n",
       "  <tbody>\n",
       "    <tr>\n",
       "      <th>1770</th>\n",
       "      <td>1017_122</td>\n",
       "      <td>1017</td>\n",
       "      <td>2018-11-19</td>\n",
       "      <td>2018</td>\n",
       "      <td>11</td>\n",
       "      <td>19</td>\n",
       "      <td>0</td>\n",
       "    </tr>\n",
       "    <tr>\n",
       "      <th>5235</th>\n",
       "      <td>1051_649</td>\n",
       "      <td>1051</td>\n",
       "      <td>2018-12-22</td>\n",
       "      <td>2018</td>\n",
       "      <td>12</td>\n",
       "      <td>22</td>\n",
       "      <td>5</td>\n",
       "    </tr>\n",
       "    <tr>\n",
       "      <th>55047</th>\n",
       "      <td>1347_84</td>\n",
       "      <td>1347</td>\n",
       "      <td>2018-10-14</td>\n",
       "      <td>2018</td>\n",
       "      <td>10</td>\n",
       "      <td>14</td>\n",
       "      <td>6</td>\n",
       "    </tr>\n",
       "    <tr>\n",
       "      <th>6960</th>\n",
       "      <td>1057_284</td>\n",
       "      <td>1057</td>\n",
       "      <td>2018-12-24</td>\n",
       "      <td>2018</td>\n",
       "      <td>12</td>\n",
       "      <td>24</td>\n",
       "      <td>0</td>\n",
       "    </tr>\n",
       "    <tr>\n",
       "      <th>61238</th>\n",
       "      <td>1384_327</td>\n",
       "      <td>1384</td>\n",
       "      <td>2018-08-28</td>\n",
       "      <td>2018</td>\n",
       "      <td>8</td>\n",
       "      <td>28</td>\n",
       "      <td>1</td>\n",
       "    </tr>\n",
       "  </tbody>\n",
       "</table>\n",
       "</div>"
      ],
      "text/plain": [
       "             id  user_id message_date  year  month  day  dow\n",
       "1770   1017_122     1017   2018-11-19  2018     11   19    0\n",
       "5235   1051_649     1051   2018-12-22  2018     12   22    5\n",
       "55047   1347_84     1347   2018-10-14  2018     10   14    6\n",
       "6960   1057_284     1057   2018-12-24  2018     12   24    0\n",
       "61238  1384_327     1384   2018-08-28  2018      8   28    1"
      ]
     },
     "execution_count": 27,
     "metadata": {},
     "output_type": "execute_result"
    }
   ],
   "source": [
    "# Check that changes are correct\n",
    "messages.info()\n",
    "messages.sample(5)"
   ]
  },
  {
   "cell_type": "code",
   "execution_count": 28,
   "metadata": {},
   "outputs": [],
   "source": [
    "# Create a year, month, day & day of week column based on the session_date column\n",
    "internet['year'] = internet.session_date.dt.year\n",
    "internet['month'] = internet.session_date.dt.month\n",
    "internet['day'] = internet.session_date.dt.day\n",
    "internet['dow'] = internet.session_date.dt.dayofweek"
   ]
  },
  {
   "cell_type": "code",
   "execution_count": 29,
   "metadata": {},
   "outputs": [
    {
     "name": "stdout",
     "output_type": "stream",
     "text": [
      "<class 'pandas.core.frame.DataFrame'>\n",
      "RangeIndex: 104825 entries, 0 to 104824\n",
      "Data columns (total 8 columns):\n",
      " #   Column        Non-Null Count   Dtype         \n",
      "---  ------        --------------   -----         \n",
      " 0   id            104825 non-null  object        \n",
      " 1   user_id       104825 non-null  int64         \n",
      " 2   session_date  104825 non-null  datetime64[ns]\n",
      " 3   mb_used       104825 non-null  float64       \n",
      " 4   year          104825 non-null  int32         \n",
      " 5   month         104825 non-null  int32         \n",
      " 6   day           104825 non-null  int32         \n",
      " 7   dow           104825 non-null  int32         \n",
      "dtypes: datetime64[ns](1), float64(1), int32(4), int64(1), object(1)\n",
      "memory usage: 4.8+ MB\n"
     ]
    },
    {
     "data": {
      "text/html": [
       "<div>\n",
       "<style scoped>\n",
       "    .dataframe tbody tr th:only-of-type {\n",
       "        vertical-align: middle;\n",
       "    }\n",
       "\n",
       "    .dataframe tbody tr th {\n",
       "        vertical-align: top;\n",
       "    }\n",
       "\n",
       "    .dataframe thead th {\n",
       "        text-align: right;\n",
       "    }\n",
       "</style>\n",
       "<table border=\"1\" class=\"dataframe\">\n",
       "  <thead>\n",
       "    <tr style=\"text-align: right;\">\n",
       "      <th></th>\n",
       "      <th>id</th>\n",
       "      <th>user_id</th>\n",
       "      <th>session_date</th>\n",
       "      <th>mb_used</th>\n",
       "      <th>year</th>\n",
       "      <th>month</th>\n",
       "      <th>day</th>\n",
       "      <th>dow</th>\n",
       "    </tr>\n",
       "  </thead>\n",
       "  <tbody>\n",
       "    <tr>\n",
       "      <th>32693</th>\n",
       "      <td>1147_326</td>\n",
       "      <td>1147</td>\n",
       "      <td>2018-09-27</td>\n",
       "      <td>389.87</td>\n",
       "      <td>2018</td>\n",
       "      <td>9</td>\n",
       "      <td>27</td>\n",
       "      <td>3</td>\n",
       "    </tr>\n",
       "    <tr>\n",
       "      <th>22502</th>\n",
       "      <td>1103_47</td>\n",
       "      <td>1103</td>\n",
       "      <td>2018-12-21</td>\n",
       "      <td>762.04</td>\n",
       "      <td>2018</td>\n",
       "      <td>12</td>\n",
       "      <td>21</td>\n",
       "      <td>4</td>\n",
       "    </tr>\n",
       "    <tr>\n",
       "      <th>79492</th>\n",
       "      <td>1370_256</td>\n",
       "      <td>1370</td>\n",
       "      <td>2018-09-13</td>\n",
       "      <td>468.42</td>\n",
       "      <td>2018</td>\n",
       "      <td>9</td>\n",
       "      <td>13</td>\n",
       "      <td>3</td>\n",
       "    </tr>\n",
       "    <tr>\n",
       "      <th>65530</th>\n",
       "      <td>1302_76</td>\n",
       "      <td>1302</td>\n",
       "      <td>2018-11-17</td>\n",
       "      <td>551.92</td>\n",
       "      <td>2018</td>\n",
       "      <td>11</td>\n",
       "      <td>17</td>\n",
       "      <td>5</td>\n",
       "    </tr>\n",
       "    <tr>\n",
       "      <th>57953</th>\n",
       "      <td>1261_424</td>\n",
       "      <td>1261</td>\n",
       "      <td>2018-03-10</td>\n",
       "      <td>61.30</td>\n",
       "      <td>2018</td>\n",
       "      <td>3</td>\n",
       "      <td>10</td>\n",
       "      <td>5</td>\n",
       "    </tr>\n",
       "  </tbody>\n",
       "</table>\n",
       "</div>"
      ],
      "text/plain": [
       "             id  user_id session_date  mb_used  year  month  day  dow\n",
       "32693  1147_326     1147   2018-09-27   389.87  2018      9   27    3\n",
       "22502   1103_47     1103   2018-12-21   762.04  2018     12   21    4\n",
       "79492  1370_256     1370   2018-09-13   468.42  2018      9   13    3\n",
       "65530   1302_76     1302   2018-11-17   551.92  2018     11   17    5\n",
       "57953  1261_424     1261   2018-03-10    61.30  2018      3   10    5"
      ]
     },
     "execution_count": 29,
     "metadata": {},
     "output_type": "execute_result"
    }
   ],
   "source": [
    "# Check that changes are correct\n",
    "internet.info()\n",
    "internet.sample(5)"
   ]
  },
  {
   "cell_type": "code",
   "execution_count": 30,
   "metadata": {},
   "outputs": [
    {
     "data": {
      "text/html": [
       "<div>\n",
       "<style scoped>\n",
       "    .dataframe tbody tr th:only-of-type {\n",
       "        vertical-align: middle;\n",
       "    }\n",
       "\n",
       "    .dataframe tbody tr th {\n",
       "        vertical-align: top;\n",
       "    }\n",
       "\n",
       "    .dataframe thead th {\n",
       "        text-align: right;\n",
       "    }\n",
       "</style>\n",
       "<table border=\"1\" class=\"dataframe\">\n",
       "  <thead>\n",
       "    <tr style=\"text-align: right;\">\n",
       "      <th></th>\n",
       "      <th>messages_included</th>\n",
       "      <th>mb_per_month_included</th>\n",
       "      <th>minutes_included</th>\n",
       "      <th>usd_monthly_pay</th>\n",
       "      <th>usd_per_gb</th>\n",
       "      <th>usd_per_message</th>\n",
       "      <th>usd_per_minute</th>\n",
       "      <th>plan_name</th>\n",
       "    </tr>\n",
       "  </thead>\n",
       "  <tbody>\n",
       "    <tr>\n",
       "      <th>0</th>\n",
       "      <td>50</td>\n",
       "      <td>15360</td>\n",
       "      <td>500</td>\n",
       "      <td>20</td>\n",
       "      <td>10</td>\n",
       "      <td>0.03</td>\n",
       "      <td>0.03</td>\n",
       "      <td>surf</td>\n",
       "    </tr>\n",
       "    <tr>\n",
       "      <th>1</th>\n",
       "      <td>1000</td>\n",
       "      <td>30720</td>\n",
       "      <td>3000</td>\n",
       "      <td>70</td>\n",
       "      <td>7</td>\n",
       "      <td>0.01</td>\n",
       "      <td>0.01</td>\n",
       "      <td>ultimate</td>\n",
       "    </tr>\n",
       "  </tbody>\n",
       "</table>\n",
       "</div>"
      ],
      "text/plain": [
       "   messages_included  mb_per_month_included  minutes_included  \\\n",
       "0                 50                  15360               500   \n",
       "1               1000                  30720              3000   \n",
       "\n",
       "   usd_monthly_pay  usd_per_gb  usd_per_message  usd_per_minute plan_name  \n",
       "0               20          10             0.03            0.03      surf  \n",
       "1               70           7             0.01            0.01  ultimate  "
      ]
     },
     "execution_count": 30,
     "metadata": {},
     "output_type": "execute_result"
    }
   ],
   "source": [
    "# Print out the plan conditions \n",
    "plans"
   ]
  },
  {
   "cell_type": "markdown",
   "metadata": {},
   "source": [
    "# Aggregate data per user\n",
    "\n",
    "Based on the cleaned data, I aggregated the data by user & by month then merged the data to calculate the total revenue per plan per month."
   ]
  },
  {
   "cell_type": "code",
   "execution_count": 31,
   "metadata": {},
   "outputs": [
    {
     "data": {
      "text/html": [
       "<div>\n",
       "<style scoped>\n",
       "    .dataframe tbody tr th:only-of-type {\n",
       "        vertical-align: middle;\n",
       "    }\n",
       "\n",
       "    .dataframe tbody tr th {\n",
       "        vertical-align: top;\n",
       "    }\n",
       "\n",
       "    .dataframe thead th {\n",
       "        text-align: right;\n",
       "    }\n",
       "</style>\n",
       "<table border=\"1\" class=\"dataframe\">\n",
       "  <thead>\n",
       "    <tr style=\"text-align: right;\">\n",
       "      <th></th>\n",
       "      <th>user_id</th>\n",
       "      <th>month</th>\n",
       "      <th>tot_calls</th>\n",
       "    </tr>\n",
       "  </thead>\n",
       "  <tbody>\n",
       "    <tr>\n",
       "      <th>0</th>\n",
       "      <td>1000</td>\n",
       "      <td>12</td>\n",
       "      <td>16</td>\n",
       "    </tr>\n",
       "    <tr>\n",
       "      <th>1</th>\n",
       "      <td>1001</td>\n",
       "      <td>8</td>\n",
       "      <td>27</td>\n",
       "    </tr>\n",
       "    <tr>\n",
       "      <th>2</th>\n",
       "      <td>1001</td>\n",
       "      <td>9</td>\n",
       "      <td>49</td>\n",
       "    </tr>\n",
       "    <tr>\n",
       "      <th>3</th>\n",
       "      <td>1001</td>\n",
       "      <td>10</td>\n",
       "      <td>65</td>\n",
       "    </tr>\n",
       "    <tr>\n",
       "      <th>4</th>\n",
       "      <td>1001</td>\n",
       "      <td>11</td>\n",
       "      <td>64</td>\n",
       "    </tr>\n",
       "  </tbody>\n",
       "</table>\n",
       "</div>"
      ],
      "text/plain": [
       "   user_id  month  tot_calls\n",
       "0     1000     12         16\n",
       "1     1001      8         27\n",
       "2     1001      9         49\n",
       "3     1001     10         65\n",
       "4     1001     11         64"
      ]
     },
     "execution_count": 31,
     "metadata": {},
     "output_type": "execute_result"
    }
   ],
   "source": [
    "# Calculate the number of calls made by each user per month. Save the result.\n",
    "calls_per_month = calls.groupby(['user_id','month'])['id'].count().reset_index().sort_values(by=['user_id','month'])\n",
    "calls_per_month.rename(columns={'id':'tot_calls'},inplace=True)\n",
    "calls_per_month.head()"
   ]
  },
  {
   "cell_type": "code",
   "execution_count": 32,
   "metadata": {},
   "outputs": [
    {
     "data": {
      "text/html": [
       "<div>\n",
       "<style scoped>\n",
       "    .dataframe tbody tr th:only-of-type {\n",
       "        vertical-align: middle;\n",
       "    }\n",
       "\n",
       "    .dataframe tbody tr th {\n",
       "        vertical-align: top;\n",
       "    }\n",
       "\n",
       "    .dataframe thead th {\n",
       "        text-align: right;\n",
       "    }\n",
       "</style>\n",
       "<table border=\"1\" class=\"dataframe\">\n",
       "  <thead>\n",
       "    <tr style=\"text-align: right;\">\n",
       "      <th></th>\n",
       "      <th>user_id</th>\n",
       "      <th>month</th>\n",
       "      <th>tot_mins</th>\n",
       "    </tr>\n",
       "  </thead>\n",
       "  <tbody>\n",
       "    <tr>\n",
       "      <th>0</th>\n",
       "      <td>1000</td>\n",
       "      <td>12</td>\n",
       "      <td>124</td>\n",
       "    </tr>\n",
       "    <tr>\n",
       "      <th>1</th>\n",
       "      <td>1001</td>\n",
       "      <td>8</td>\n",
       "      <td>182</td>\n",
       "    </tr>\n",
       "    <tr>\n",
       "      <th>2</th>\n",
       "      <td>1001</td>\n",
       "      <td>9</td>\n",
       "      <td>315</td>\n",
       "    </tr>\n",
       "    <tr>\n",
       "      <th>3</th>\n",
       "      <td>1001</td>\n",
       "      <td>10</td>\n",
       "      <td>393</td>\n",
       "    </tr>\n",
       "    <tr>\n",
       "      <th>4</th>\n",
       "      <td>1001</td>\n",
       "      <td>11</td>\n",
       "      <td>426</td>\n",
       "    </tr>\n",
       "  </tbody>\n",
       "</table>\n",
       "</div>"
      ],
      "text/plain": [
       "   user_id  month  tot_mins\n",
       "0     1000     12       124\n",
       "1     1001      8       182\n",
       "2     1001      9       315\n",
       "3     1001     10       393\n",
       "4     1001     11       426"
      ]
     },
     "execution_count": 32,
     "metadata": {},
     "output_type": "execute_result"
    }
   ],
   "source": [
    "# Calculate the amount of minutes spent by each user per month. Save the result.\n",
    "mins_per_month = calls.groupby(['user_id','month'])['duration'].sum().reset_index().sort_values(by=['user_id'])\n",
    "mins_per_month.rename(columns={'duration':'tot_mins'},inplace=True)\n",
    "mins_per_month.head()"
   ]
  },
  {
   "cell_type": "code",
   "execution_count": 33,
   "metadata": {},
   "outputs": [
    {
     "data": {
      "text/html": [
       "<div>\n",
       "<style scoped>\n",
       "    .dataframe tbody tr th:only-of-type {\n",
       "        vertical-align: middle;\n",
       "    }\n",
       "\n",
       "    .dataframe tbody tr th {\n",
       "        vertical-align: top;\n",
       "    }\n",
       "\n",
       "    .dataframe thead th {\n",
       "        text-align: right;\n",
       "    }\n",
       "</style>\n",
       "<table border=\"1\" class=\"dataframe\">\n",
       "  <thead>\n",
       "    <tr style=\"text-align: right;\">\n",
       "      <th></th>\n",
       "      <th>user_id</th>\n",
       "      <th>month</th>\n",
       "      <th>tot_msgs</th>\n",
       "    </tr>\n",
       "  </thead>\n",
       "  <tbody>\n",
       "    <tr>\n",
       "      <th>0</th>\n",
       "      <td>1000</td>\n",
       "      <td>12</td>\n",
       "      <td>11</td>\n",
       "    </tr>\n",
       "    <tr>\n",
       "      <th>1</th>\n",
       "      <td>1001</td>\n",
       "      <td>8</td>\n",
       "      <td>30</td>\n",
       "    </tr>\n",
       "    <tr>\n",
       "      <th>2</th>\n",
       "      <td>1001</td>\n",
       "      <td>9</td>\n",
       "      <td>44</td>\n",
       "    </tr>\n",
       "    <tr>\n",
       "      <th>3</th>\n",
       "      <td>1001</td>\n",
       "      <td>10</td>\n",
       "      <td>53</td>\n",
       "    </tr>\n",
       "    <tr>\n",
       "      <th>4</th>\n",
       "      <td>1001</td>\n",
       "      <td>11</td>\n",
       "      <td>36</td>\n",
       "    </tr>\n",
       "  </tbody>\n",
       "</table>\n",
       "</div>"
      ],
      "text/plain": [
       "   user_id  month  tot_msgs\n",
       "0     1000     12        11\n",
       "1     1001      8        30\n",
       "2     1001      9        44\n",
       "3     1001     10        53\n",
       "4     1001     11        36"
      ]
     },
     "execution_count": 33,
     "metadata": {},
     "output_type": "execute_result"
    }
   ],
   "source": [
    "# Calculate the number of messages sent by each user per month. Save the result.\n",
    "msgs_per_month = messages.groupby(['user_id','month'])['id'].count().reset_index().sort_values(by=['user_id'])\n",
    "msgs_per_month.rename(columns={'id':'tot_msgs'},inplace=True)\n",
    "msgs_per_month.head()"
   ]
  },
  {
   "cell_type": "code",
   "execution_count": 34,
   "metadata": {},
   "outputs": [
    {
     "data": {
      "text/html": [
       "<div>\n",
       "<style scoped>\n",
       "    .dataframe tbody tr th:only-of-type {\n",
       "        vertical-align: middle;\n",
       "    }\n",
       "\n",
       "    .dataframe tbody tr th {\n",
       "        vertical-align: top;\n",
       "    }\n",
       "\n",
       "    .dataframe thead th {\n",
       "        text-align: right;\n",
       "    }\n",
       "</style>\n",
       "<table border=\"1\" class=\"dataframe\">\n",
       "  <thead>\n",
       "    <tr style=\"text-align: right;\">\n",
       "      <th></th>\n",
       "      <th>user_id</th>\n",
       "      <th>month</th>\n",
       "      <th>tot_mb</th>\n",
       "      <th>tot_gb</th>\n",
       "    </tr>\n",
       "  </thead>\n",
       "  <tbody>\n",
       "    <tr>\n",
       "      <th>0</th>\n",
       "      <td>1000</td>\n",
       "      <td>12</td>\n",
       "      <td>1901.47</td>\n",
       "      <td>2.0</td>\n",
       "    </tr>\n",
       "    <tr>\n",
       "      <th>1</th>\n",
       "      <td>1001</td>\n",
       "      <td>8</td>\n",
       "      <td>6919.15</td>\n",
       "      <td>7.0</td>\n",
       "    </tr>\n",
       "    <tr>\n",
       "      <th>2</th>\n",
       "      <td>1001</td>\n",
       "      <td>9</td>\n",
       "      <td>13314.82</td>\n",
       "      <td>14.0</td>\n",
       "    </tr>\n",
       "    <tr>\n",
       "      <th>3</th>\n",
       "      <td>1001</td>\n",
       "      <td>10</td>\n",
       "      <td>22330.49</td>\n",
       "      <td>22.0</td>\n",
       "    </tr>\n",
       "    <tr>\n",
       "      <th>4</th>\n",
       "      <td>1001</td>\n",
       "      <td>11</td>\n",
       "      <td>18504.30</td>\n",
       "      <td>19.0</td>\n",
       "    </tr>\n",
       "  </tbody>\n",
       "</table>\n",
       "</div>"
      ],
      "text/plain": [
       "   user_id  month    tot_mb  tot_gb\n",
       "0     1000     12   1901.47     2.0\n",
       "1     1001      8   6919.15     7.0\n",
       "2     1001      9  13314.82    14.0\n",
       "3     1001     10  22330.49    22.0\n",
       "4     1001     11  18504.30    19.0"
      ]
     },
     "execution_count": 34,
     "metadata": {},
     "output_type": "execute_result"
    }
   ],
   "source": [
    "# Calculate the volume of internet traffic used by each user per month. Save the result.\n",
    "int_per_month = internet.groupby(['user_id','month'])['mb_used'].sum().reset_index().sort_values(by=['user_id'])\n",
    "int_per_month.rename(columns={'mb_used':'tot_mb'},inplace=True)\n",
    "int_per_month['tot_gb'] = (int_per_month.tot_mb/1024).apply(np.ceil)\n",
    "int_per_month.head()"
   ]
  },
  {
   "cell_type": "markdown",
   "metadata": {},
   "source": [
    "Now that I have aggregated the total call duration, messages, and internet traffic, per user per month, I can merge these dataframes & can then calculate the monthly totals per user"
   ]
  },
  {
   "cell_type": "code",
   "execution_count": 35,
   "metadata": {},
   "outputs": [
    {
     "data": {
      "text/html": [
       "<div>\n",
       "<style scoped>\n",
       "    .dataframe tbody tr th:only-of-type {\n",
       "        vertical-align: middle;\n",
       "    }\n",
       "\n",
       "    .dataframe tbody tr th {\n",
       "        vertical-align: top;\n",
       "    }\n",
       "\n",
       "    .dataframe thead th {\n",
       "        text-align: right;\n",
       "    }\n",
       "</style>\n",
       "<table border=\"1\" class=\"dataframe\">\n",
       "  <thead>\n",
       "    <tr style=\"text-align: right;\">\n",
       "      <th></th>\n",
       "      <th>user_id</th>\n",
       "      <th>month</th>\n",
       "      <th>tot_calls</th>\n",
       "      <th>tot_mins</th>\n",
       "      <th>tot_msgs</th>\n",
       "      <th>tot_mb</th>\n",
       "      <th>tot_gb</th>\n",
       "    </tr>\n",
       "  </thead>\n",
       "  <tbody>\n",
       "    <tr>\n",
       "      <th>0</th>\n",
       "      <td>1000</td>\n",
       "      <td>12</td>\n",
       "      <td>16</td>\n",
       "      <td>124</td>\n",
       "      <td>11</td>\n",
       "      <td>1901.47</td>\n",
       "      <td>2.0</td>\n",
       "    </tr>\n",
       "    <tr>\n",
       "      <th>1</th>\n",
       "      <td>1001</td>\n",
       "      <td>8</td>\n",
       "      <td>27</td>\n",
       "      <td>182</td>\n",
       "      <td>30</td>\n",
       "      <td>6919.15</td>\n",
       "      <td>7.0</td>\n",
       "    </tr>\n",
       "    <tr>\n",
       "      <th>2</th>\n",
       "      <td>1001</td>\n",
       "      <td>9</td>\n",
       "      <td>49</td>\n",
       "      <td>315</td>\n",
       "      <td>44</td>\n",
       "      <td>13314.82</td>\n",
       "      <td>14.0</td>\n",
       "    </tr>\n",
       "    <tr>\n",
       "      <th>3</th>\n",
       "      <td>1001</td>\n",
       "      <td>10</td>\n",
       "      <td>65</td>\n",
       "      <td>393</td>\n",
       "      <td>53</td>\n",
       "      <td>22330.49</td>\n",
       "      <td>22.0</td>\n",
       "    </tr>\n",
       "    <tr>\n",
       "      <th>4</th>\n",
       "      <td>1001</td>\n",
       "      <td>11</td>\n",
       "      <td>64</td>\n",
       "      <td>426</td>\n",
       "      <td>36</td>\n",
       "      <td>18504.30</td>\n",
       "      <td>19.0</td>\n",
       "    </tr>\n",
       "  </tbody>\n",
       "</table>\n",
       "</div>"
      ],
      "text/plain": [
       "   user_id  month  tot_calls  tot_mins  tot_msgs    tot_mb  tot_gb\n",
       "0     1000     12         16       124        11   1901.47     2.0\n",
       "1     1001      8         27       182        30   6919.15     7.0\n",
       "2     1001      9         49       315        44  13314.82    14.0\n",
       "3     1001     10         65       393        53  22330.49    22.0\n",
       "4     1001     11         64       426        36  18504.30    19.0"
      ]
     },
     "execution_count": 35,
     "metadata": {},
     "output_type": "execute_result"
    }
   ],
   "source": [
    "# Merge the data for calls, minutes, messages, internet based on user_id and month\n",
    "mnth_totals = calls_per_month.merge(mins_per_month,on=['user_id','month'])\n",
    "mnth_totals = mnth_totals.merge(msgs_per_month,on=['user_id','month'])\n",
    "mnth_totals = mnth_totals.merge(int_per_month,on=['user_id','month'])\n",
    "mnth_totals.head()"
   ]
  },
  {
   "cell_type": "code",
   "execution_count": 36,
   "metadata": {},
   "outputs": [
    {
     "data": {
      "text/html": [
       "<div>\n",
       "<style scoped>\n",
       "    .dataframe tbody tr th:only-of-type {\n",
       "        vertical-align: middle;\n",
       "    }\n",
       "\n",
       "    .dataframe tbody tr th {\n",
       "        vertical-align: top;\n",
       "    }\n",
       "\n",
       "    .dataframe thead th {\n",
       "        text-align: right;\n",
       "    }\n",
       "</style>\n",
       "<table border=\"1\" class=\"dataframe\">\n",
       "  <thead>\n",
       "    <tr style=\"text-align: right;\">\n",
       "      <th></th>\n",
       "      <th>user_id</th>\n",
       "      <th>month</th>\n",
       "      <th>tot_calls</th>\n",
       "      <th>tot_mins</th>\n",
       "      <th>tot_msgs</th>\n",
       "      <th>tot_mb</th>\n",
       "      <th>tot_gb</th>\n",
       "      <th>plan</th>\n",
       "      <th>city</th>\n",
       "    </tr>\n",
       "  </thead>\n",
       "  <tbody>\n",
       "    <tr>\n",
       "      <th>0</th>\n",
       "      <td>1000</td>\n",
       "      <td>12</td>\n",
       "      <td>16</td>\n",
       "      <td>124</td>\n",
       "      <td>11</td>\n",
       "      <td>1901.47</td>\n",
       "      <td>2.0</td>\n",
       "      <td>ultimate</td>\n",
       "      <td>Atlanta-Sandy Springs-Roswell, GA MSA</td>\n",
       "    </tr>\n",
       "    <tr>\n",
       "      <th>1</th>\n",
       "      <td>1001</td>\n",
       "      <td>8</td>\n",
       "      <td>27</td>\n",
       "      <td>182</td>\n",
       "      <td>30</td>\n",
       "      <td>6919.15</td>\n",
       "      <td>7.0</td>\n",
       "      <td>surf</td>\n",
       "      <td>Seattle-Tacoma-Bellevue, WA MSA</td>\n",
       "    </tr>\n",
       "    <tr>\n",
       "      <th>2</th>\n",
       "      <td>1001</td>\n",
       "      <td>9</td>\n",
       "      <td>49</td>\n",
       "      <td>315</td>\n",
       "      <td>44</td>\n",
       "      <td>13314.82</td>\n",
       "      <td>14.0</td>\n",
       "      <td>surf</td>\n",
       "      <td>Seattle-Tacoma-Bellevue, WA MSA</td>\n",
       "    </tr>\n",
       "    <tr>\n",
       "      <th>3</th>\n",
       "      <td>1001</td>\n",
       "      <td>10</td>\n",
       "      <td>65</td>\n",
       "      <td>393</td>\n",
       "      <td>53</td>\n",
       "      <td>22330.49</td>\n",
       "      <td>22.0</td>\n",
       "      <td>surf</td>\n",
       "      <td>Seattle-Tacoma-Bellevue, WA MSA</td>\n",
       "    </tr>\n",
       "    <tr>\n",
       "      <th>4</th>\n",
       "      <td>1001</td>\n",
       "      <td>11</td>\n",
       "      <td>64</td>\n",
       "      <td>426</td>\n",
       "      <td>36</td>\n",
       "      <td>18504.30</td>\n",
       "      <td>19.0</td>\n",
       "      <td>surf</td>\n",
       "      <td>Seattle-Tacoma-Bellevue, WA MSA</td>\n",
       "    </tr>\n",
       "  </tbody>\n",
       "</table>\n",
       "</div>"
      ],
      "text/plain": [
       "   user_id  month  tot_calls  tot_mins  tot_msgs    tot_mb  tot_gb      plan  \\\n",
       "0     1000     12         16       124        11   1901.47     2.0  ultimate   \n",
       "1     1001      8         27       182        30   6919.15     7.0      surf   \n",
       "2     1001      9         49       315        44  13314.82    14.0      surf   \n",
       "3     1001     10         65       393        53  22330.49    22.0      surf   \n",
       "4     1001     11         64       426        36  18504.30    19.0      surf   \n",
       "\n",
       "                                    city  \n",
       "0  Atlanta-Sandy Springs-Roswell, GA MSA  \n",
       "1        Seattle-Tacoma-Bellevue, WA MSA  \n",
       "2        Seattle-Tacoma-Bellevue, WA MSA  \n",
       "3        Seattle-Tacoma-Bellevue, WA MSA  \n",
       "4        Seattle-Tacoma-Bellevue, WA MSA  "
      ]
     },
     "execution_count": 36,
     "metadata": {},
     "output_type": "execute_result"
    }
   ],
   "source": [
    "# Add the plan & city information for each user\n",
    "mnth_totals = mnth_totals.merge(users[['user_id','plan','city']],on='user_id')\n",
    "mnth_totals.head()"
   ]
  },
  {
   "cell_type": "code",
   "execution_count": 37,
   "metadata": {},
   "outputs": [
    {
     "data": {
      "text/html": [
       "<div>\n",
       "<style scoped>\n",
       "    .dataframe tbody tr th:only-of-type {\n",
       "        vertical-align: middle;\n",
       "    }\n",
       "\n",
       "    .dataframe tbody tr th {\n",
       "        vertical-align: top;\n",
       "    }\n",
       "\n",
       "    .dataframe thead th {\n",
       "        text-align: right;\n",
       "    }\n",
       "</style>\n",
       "<table border=\"1\" class=\"dataframe\">\n",
       "  <thead>\n",
       "    <tr style=\"text-align: right;\">\n",
       "      <th></th>\n",
       "      <th>user_id</th>\n",
       "      <th>month</th>\n",
       "      <th>tot_calls</th>\n",
       "      <th>tot_mins</th>\n",
       "      <th>tot_msgs</th>\n",
       "      <th>tot_mb</th>\n",
       "      <th>tot_gb</th>\n",
       "      <th>plan</th>\n",
       "      <th>city</th>\n",
       "      <th>region</th>\n",
       "    </tr>\n",
       "  </thead>\n",
       "  <tbody>\n",
       "    <tr>\n",
       "      <th>0</th>\n",
       "      <td>1000</td>\n",
       "      <td>12</td>\n",
       "      <td>16</td>\n",
       "      <td>124</td>\n",
       "      <td>11</td>\n",
       "      <td>1901.47</td>\n",
       "      <td>2.0</td>\n",
       "      <td>ultimate</td>\n",
       "      <td>Atlanta-Sandy Springs-Roswell</td>\n",
       "      <td>GA MSA</td>\n",
       "    </tr>\n",
       "    <tr>\n",
       "      <th>1</th>\n",
       "      <td>1001</td>\n",
       "      <td>8</td>\n",
       "      <td>27</td>\n",
       "      <td>182</td>\n",
       "      <td>30</td>\n",
       "      <td>6919.15</td>\n",
       "      <td>7.0</td>\n",
       "      <td>surf</td>\n",
       "      <td>Seattle-Tacoma-Bellevue</td>\n",
       "      <td>WA MSA</td>\n",
       "    </tr>\n",
       "    <tr>\n",
       "      <th>2</th>\n",
       "      <td>1001</td>\n",
       "      <td>9</td>\n",
       "      <td>49</td>\n",
       "      <td>315</td>\n",
       "      <td>44</td>\n",
       "      <td>13314.82</td>\n",
       "      <td>14.0</td>\n",
       "      <td>surf</td>\n",
       "      <td>Seattle-Tacoma-Bellevue</td>\n",
       "      <td>WA MSA</td>\n",
       "    </tr>\n",
       "    <tr>\n",
       "      <th>3</th>\n",
       "      <td>1001</td>\n",
       "      <td>10</td>\n",
       "      <td>65</td>\n",
       "      <td>393</td>\n",
       "      <td>53</td>\n",
       "      <td>22330.49</td>\n",
       "      <td>22.0</td>\n",
       "      <td>surf</td>\n",
       "      <td>Seattle-Tacoma-Bellevue</td>\n",
       "      <td>WA MSA</td>\n",
       "    </tr>\n",
       "    <tr>\n",
       "      <th>4</th>\n",
       "      <td>1001</td>\n",
       "      <td>11</td>\n",
       "      <td>64</td>\n",
       "      <td>426</td>\n",
       "      <td>36</td>\n",
       "      <td>18504.30</td>\n",
       "      <td>19.0</td>\n",
       "      <td>surf</td>\n",
       "      <td>Seattle-Tacoma-Bellevue</td>\n",
       "      <td>WA MSA</td>\n",
       "    </tr>\n",
       "  </tbody>\n",
       "</table>\n",
       "</div>"
      ],
      "text/plain": [
       "   user_id  month  tot_calls  tot_mins  tot_msgs    tot_mb  tot_gb      plan  \\\n",
       "0     1000     12         16       124        11   1901.47     2.0  ultimate   \n",
       "1     1001      8         27       182        30   6919.15     7.0      surf   \n",
       "2     1001      9         49       315        44  13314.82    14.0      surf   \n",
       "3     1001     10         65       393        53  22330.49    22.0      surf   \n",
       "4     1001     11         64       426        36  18504.30    19.0      surf   \n",
       "\n",
       "                            city  region  \n",
       "0  Atlanta-Sandy Springs-Roswell  GA MSA  \n",
       "1        Seattle-Tacoma-Bellevue  WA MSA  \n",
       "2        Seattle-Tacoma-Bellevue  WA MSA  \n",
       "3        Seattle-Tacoma-Bellevue  WA MSA  \n",
       "4        Seattle-Tacoma-Bellevue  WA MSA  "
      ]
     },
     "execution_count": 37,
     "metadata": {},
     "output_type": "execute_result"
    }
   ],
   "source": [
    "# Split region from city column to help in future analysis & statistical testing\n",
    "mnth_totals[['city','region']] = mnth_totals['city'].str.split(', ',expand=True)\n",
    "mnth_totals.head()"
   ]
  },
  {
   "cell_type": "markdown",
   "metadata": {},
   "source": [
    "I created the merged dataset containing the monthly totals per user and also added their plan name based on the users dataset. In order to calculate the total monthly revenue per user, I will create a few different functions that can then be used with the apply method to calculate the monthly revenue per user, based on the different plans' limits. "
   ]
  },
  {
   "cell_type": "code",
   "execution_count": 38,
   "metadata": {},
   "outputs": [
    {
     "name": "stdout",
     "output_type": "stream",
     "text": [
      "70\n",
      "20\n"
     ]
    }
   ],
   "source": [
    "# Create a function to return plan cost based on the user's prepaid plan\n",
    "# Test the function to ensure it's running correctly\n",
    "\n",
    "def plan_cost(plan):\n",
    "    if plan == 'ultimate':\n",
    "        return 70\n",
    "    elif plan =='surf':\n",
    "        return 20\n",
    "print(plan_cost('ultimate'))\n",
    "print(plan_cost('surf'))"
   ]
  },
  {
   "cell_type": "code",
   "execution_count": 39,
   "metadata": {},
   "outputs": [
    {
     "name": "stdout",
     "output_type": "stream",
     "text": [
      "1.5\n",
      "0\n",
      "3.5\n",
      "0\n"
     ]
    }
   ],
   "source": [
    "# Create a function to return additional calls costs per month based on client's usage & the plan's limits\n",
    "# Test the function to ensure it's running correctly\n",
    "\n",
    "def add_mins_cost(plan,tot_mins):\n",
    "    if plan == 'ultimate':\n",
    "        add_mins = tot_mins-3000\n",
    "        if add_mins <= 0:\n",
    "            return 0\n",
    "        elif add_mins > 0:\n",
    "            return add_mins*0.01   \n",
    "    elif plan == 'surf':\n",
    "        add_mins = tot_mins-500\n",
    "        if add_mins <= 0:\n",
    "            return 0\n",
    "        elif add_mins > 0:\n",
    "            return add_mins*0.03\n",
    "            \n",
    "print(add_mins_cost('surf',550))\n",
    "print(add_mins_cost('surf',400))\n",
    "print(add_mins_cost('ultimate',3350))\n",
    "print(add_mins_cost('ultimate',2800))"
   ]
  },
  {
   "cell_type": "code",
   "execution_count": 40,
   "metadata": {},
   "outputs": [
    {
     "name": "stdout",
     "output_type": "stream",
     "text": [
      "0.3\n",
      "0\n",
      "2.5\n",
      "0\n"
     ]
    }
   ],
   "source": [
    "# Create a function to return additional msgs costs per month based on client's usage & the plan's limits\n",
    "# Test the function to ensure it's running correctly\n",
    "\n",
    "def add_msgs_cost(plan,tot_msgs):\n",
    "    if plan == 'ultimate':\n",
    "        add_msgs = tot_msgs-1000\n",
    "        if add_msgs <= 0:\n",
    "            return 0\n",
    "        elif add_msgs > 0:\n",
    "            return add_msgs*0.01\n",
    "    elif plan == 'surf':\n",
    "        add_msgs = tot_msgs-50\n",
    "        if add_msgs <= 0:\n",
    "            return 0\n",
    "        elif add_msgs > 0:\n",
    "            return add_msgs*0.03\n",
    "        \n",
    "print(add_msgs_cost('surf',60))\n",
    "print(add_msgs_cost('surf',40))\n",
    "print(add_msgs_cost('ultimate',1250))\n",
    "print(add_msgs_cost('ultimate',800))"
   ]
  },
  {
   "cell_type": "code",
   "execution_count": 41,
   "metadata": {},
   "outputs": [
    {
     "name": "stdout",
     "output_type": "stream",
     "text": [
      "10\n",
      "0\n",
      "14\n",
      "0\n"
     ]
    }
   ],
   "source": [
    "# Create a function to return additional gbs costs per month based on client's usage & the plan's limits\n",
    "# Test the function to ensure it's running correctly\n",
    "\n",
    "def add_gb_cost(plan,tot_gb):\n",
    "    if plan == 'ultimate':\n",
    "        add_gb = tot_gb-30\n",
    "        if add_gb <= 0:\n",
    "            return 0\n",
    "        elif add_gb > 0:\n",
    "            return add_gb*7\n",
    "    elif plan == 'surf':\n",
    "        add_gb = tot_gb-15\n",
    "        if add_gb <= 0:\n",
    "            return 0\n",
    "        elif add_gb > 0:\n",
    "            return add_gb*10\n",
    "        \n",
    "print(add_gb_cost('surf',16))\n",
    "print(add_gb_cost('surf',10))\n",
    "print(add_gb_cost('ultimate',32))\n",
    "print(add_gb_cost('ultimate',29))"
   ]
  },
  {
   "cell_type": "code",
   "execution_count": 42,
   "metadata": {},
   "outputs": [
    {
     "data": {
      "text/html": [
       "<div>\n",
       "<style scoped>\n",
       "    .dataframe tbody tr th:only-of-type {\n",
       "        vertical-align: middle;\n",
       "    }\n",
       "\n",
       "    .dataframe tbody tr th {\n",
       "        vertical-align: top;\n",
       "    }\n",
       "\n",
       "    .dataframe thead th {\n",
       "        text-align: right;\n",
       "    }\n",
       "</style>\n",
       "<table border=\"1\" class=\"dataframe\">\n",
       "  <thead>\n",
       "    <tr style=\"text-align: right;\">\n",
       "      <th></th>\n",
       "      <th>user_id</th>\n",
       "      <th>month</th>\n",
       "      <th>tot_calls</th>\n",
       "      <th>tot_mins</th>\n",
       "      <th>tot_msgs</th>\n",
       "      <th>tot_mb</th>\n",
       "      <th>tot_gb</th>\n",
       "      <th>plan</th>\n",
       "      <th>city</th>\n",
       "      <th>region</th>\n",
       "      <th>plan_cost</th>\n",
       "      <th>add_mins_cost</th>\n",
       "      <th>add_msgs_cost</th>\n",
       "      <th>add_gb_cost</th>\n",
       "    </tr>\n",
       "  </thead>\n",
       "  <tbody>\n",
       "    <tr>\n",
       "      <th>1671</th>\n",
       "      <td>1467</td>\n",
       "      <td>9</td>\n",
       "      <td>66</td>\n",
       "      <td>440</td>\n",
       "      <td>64</td>\n",
       "      <td>14323.21</td>\n",
       "      <td>14.0</td>\n",
       "      <td>ultimate</td>\n",
       "      <td>Atlanta-Sandy Springs-Roswell</td>\n",
       "      <td>GA MSA</td>\n",
       "      <td>70</td>\n",
       "      <td>0.00</td>\n",
       "      <td>0.0</td>\n",
       "      <td>0.0</td>\n",
       "    </tr>\n",
       "    <tr>\n",
       "      <th>1206</th>\n",
       "      <td>1334</td>\n",
       "      <td>9</td>\n",
       "      <td>132</td>\n",
       "      <td>836</td>\n",
       "      <td>15</td>\n",
       "      <td>14448.75</td>\n",
       "      <td>15.0</td>\n",
       "      <td>surf</td>\n",
       "      <td>Seattle-Tacoma-Bellevue</td>\n",
       "      <td>WA MSA</td>\n",
       "      <td>20</td>\n",
       "      <td>10.08</td>\n",
       "      <td>0.0</td>\n",
       "      <td>0.0</td>\n",
       "    </tr>\n",
       "    <tr>\n",
       "      <th>827</th>\n",
       "      <td>1231</td>\n",
       "      <td>9</td>\n",
       "      <td>70</td>\n",
       "      <td>582</td>\n",
       "      <td>2</td>\n",
       "      <td>19411.23</td>\n",
       "      <td>19.0</td>\n",
       "      <td>ultimate</td>\n",
       "      <td>San Jose-Sunnyvale-Santa Clara</td>\n",
       "      <td>CA MSA</td>\n",
       "      <td>70</td>\n",
       "      <td>0.00</td>\n",
       "      <td>0.0</td>\n",
       "      <td>0.0</td>\n",
       "    </tr>\n",
       "    <tr>\n",
       "      <th>1462</th>\n",
       "      <td>1405</td>\n",
       "      <td>6</td>\n",
       "      <td>14</td>\n",
       "      <td>101</td>\n",
       "      <td>24</td>\n",
       "      <td>5066.43</td>\n",
       "      <td>5.0</td>\n",
       "      <td>ultimate</td>\n",
       "      <td>Indianapolis-Carmel-Anderson</td>\n",
       "      <td>IN MSA</td>\n",
       "      <td>70</td>\n",
       "      <td>0.00</td>\n",
       "      <td>0.0</td>\n",
       "      <td>0.0</td>\n",
       "    </tr>\n",
       "    <tr>\n",
       "      <th>330</th>\n",
       "      <td>1096</td>\n",
       "      <td>12</td>\n",
       "      <td>21</td>\n",
       "      <td>141</td>\n",
       "      <td>14</td>\n",
       "      <td>7159.74</td>\n",
       "      <td>7.0</td>\n",
       "      <td>ultimate</td>\n",
       "      <td>New York-Newark-Jersey City</td>\n",
       "      <td>NY-NJ-PA MSA</td>\n",
       "      <td>70</td>\n",
       "      <td>0.00</td>\n",
       "      <td>0.0</td>\n",
       "      <td>0.0</td>\n",
       "    </tr>\n",
       "  </tbody>\n",
       "</table>\n",
       "</div>"
      ],
      "text/plain": [
       "      user_id  month  tot_calls  tot_mins  tot_msgs    tot_mb  tot_gb  \\\n",
       "1671     1467      9         66       440        64  14323.21    14.0   \n",
       "1206     1334      9        132       836        15  14448.75    15.0   \n",
       "827      1231      9         70       582         2  19411.23    19.0   \n",
       "1462     1405      6         14       101        24   5066.43     5.0   \n",
       "330      1096     12         21       141        14   7159.74     7.0   \n",
       "\n",
       "          plan                            city        region plan_cost  \\\n",
       "1671  ultimate   Atlanta-Sandy Springs-Roswell        GA MSA        70   \n",
       "1206      surf         Seattle-Tacoma-Bellevue        WA MSA        20   \n",
       "827   ultimate  San Jose-Sunnyvale-Santa Clara        CA MSA        70   \n",
       "1462  ultimate    Indianapolis-Carmel-Anderson        IN MSA        70   \n",
       "330   ultimate     New York-Newark-Jersey City  NY-NJ-PA MSA        70   \n",
       "\n",
       "      add_mins_cost  add_msgs_cost  add_gb_cost  \n",
       "1671           0.00            0.0          0.0  \n",
       "1206          10.08            0.0          0.0  \n",
       "827            0.00            0.0          0.0  \n",
       "1462           0.00            0.0          0.0  \n",
       "330            0.00            0.0          0.0  "
      ]
     },
     "execution_count": 42,
     "metadata": {},
     "output_type": "execute_result"
    }
   ],
   "source": [
    "# Apply the functions to the user_monthly_totals dataframe\n",
    "mnth_totals['plan_cost'] = mnth_totals.plan.apply(plan_cost)\n",
    "mnth_totals['add_mins_cost'] = mnth_totals.apply(lambda x:add_mins_cost(x['plan'],x['tot_mins']),axis=1)\n",
    "mnth_totals['add_msgs_cost'] = mnth_totals.apply(lambda x:add_msgs_cost(x['plan'],x['tot_msgs']),axis=1)\n",
    "mnth_totals['add_gb_cost'] = mnth_totals.apply(lambda x:add_gb_cost(x['plan'],x['tot_gb']),axis=1)\n",
    "mnth_totals.sample(5)"
   ]
  },
  {
   "cell_type": "code",
   "execution_count": 43,
   "metadata": {},
   "outputs": [
    {
     "name": "stdout",
     "output_type": "stream",
     "text": [
      "<class 'pandas.core.frame.DataFrame'>\n",
      "RangeIndex: 1759 entries, 0 to 1758\n",
      "Data columns (total 15 columns):\n",
      " #   Column         Non-Null Count  Dtype   \n",
      "---  ------         --------------  -----   \n",
      " 0   user_id        1759 non-null   int64   \n",
      " 1   month          1759 non-null   int32   \n",
      " 2   tot_calls      1759 non-null   int64   \n",
      " 3   tot_mins       1759 non-null   int64   \n",
      " 4   tot_msgs       1759 non-null   int64   \n",
      " 5   tot_mb         1759 non-null   float64 \n",
      " 6   tot_gb         1759 non-null   float64 \n",
      " 7   plan           1759 non-null   category\n",
      " 8   city           1759 non-null   object  \n",
      " 9   region         1759 non-null   object  \n",
      " 10  plan_cost      1759 non-null   category\n",
      " 11  add_mins_cost  1759 non-null   float64 \n",
      " 12  add_msgs_cost  1759 non-null   float64 \n",
      " 13  add_gb_cost    1759 non-null   float64 \n",
      " 14  tot_rev        1759 non-null   float64 \n",
      "dtypes: category(2), float64(6), int32(1), int64(4), object(2)\n",
      "memory usage: 175.6+ KB\n"
     ]
    },
    {
     "data": {
      "text/html": [
       "<div>\n",
       "<style scoped>\n",
       "    .dataframe tbody tr th:only-of-type {\n",
       "        vertical-align: middle;\n",
       "    }\n",
       "\n",
       "    .dataframe tbody tr th {\n",
       "        vertical-align: top;\n",
       "    }\n",
       "\n",
       "    .dataframe thead th {\n",
       "        text-align: right;\n",
       "    }\n",
       "</style>\n",
       "<table border=\"1\" class=\"dataframe\">\n",
       "  <thead>\n",
       "    <tr style=\"text-align: right;\">\n",
       "      <th></th>\n",
       "      <th>user_id</th>\n",
       "      <th>month</th>\n",
       "      <th>tot_calls</th>\n",
       "      <th>tot_mins</th>\n",
       "      <th>tot_msgs</th>\n",
       "      <th>tot_mb</th>\n",
       "      <th>tot_gb</th>\n",
       "      <th>plan</th>\n",
       "      <th>city</th>\n",
       "      <th>region</th>\n",
       "      <th>plan_cost</th>\n",
       "      <th>add_mins_cost</th>\n",
       "      <th>add_msgs_cost</th>\n",
       "      <th>add_gb_cost</th>\n",
       "      <th>tot_rev</th>\n",
       "    </tr>\n",
       "  </thead>\n",
       "  <tbody>\n",
       "    <tr>\n",
       "      <th>0</th>\n",
       "      <td>1000</td>\n",
       "      <td>12</td>\n",
       "      <td>16</td>\n",
       "      <td>124</td>\n",
       "      <td>11</td>\n",
       "      <td>1901.47</td>\n",
       "      <td>2.0</td>\n",
       "      <td>ultimate</td>\n",
       "      <td>Atlanta-Sandy Springs-Roswell</td>\n",
       "      <td>GA MSA</td>\n",
       "      <td>70</td>\n",
       "      <td>0.0</td>\n",
       "      <td>0.00</td>\n",
       "      <td>0.0</td>\n",
       "      <td>70.00</td>\n",
       "    </tr>\n",
       "    <tr>\n",
       "      <th>1</th>\n",
       "      <td>1001</td>\n",
       "      <td>8</td>\n",
       "      <td>27</td>\n",
       "      <td>182</td>\n",
       "      <td>30</td>\n",
       "      <td>6919.15</td>\n",
       "      <td>7.0</td>\n",
       "      <td>surf</td>\n",
       "      <td>Seattle-Tacoma-Bellevue</td>\n",
       "      <td>WA MSA</td>\n",
       "      <td>20</td>\n",
       "      <td>0.0</td>\n",
       "      <td>0.00</td>\n",
       "      <td>0.0</td>\n",
       "      <td>20.00</td>\n",
       "    </tr>\n",
       "    <tr>\n",
       "      <th>2</th>\n",
       "      <td>1001</td>\n",
       "      <td>9</td>\n",
       "      <td>49</td>\n",
       "      <td>315</td>\n",
       "      <td>44</td>\n",
       "      <td>13314.82</td>\n",
       "      <td>14.0</td>\n",
       "      <td>surf</td>\n",
       "      <td>Seattle-Tacoma-Bellevue</td>\n",
       "      <td>WA MSA</td>\n",
       "      <td>20</td>\n",
       "      <td>0.0</td>\n",
       "      <td>0.00</td>\n",
       "      <td>0.0</td>\n",
       "      <td>20.00</td>\n",
       "    </tr>\n",
       "    <tr>\n",
       "      <th>3</th>\n",
       "      <td>1001</td>\n",
       "      <td>10</td>\n",
       "      <td>65</td>\n",
       "      <td>393</td>\n",
       "      <td>53</td>\n",
       "      <td>22330.49</td>\n",
       "      <td>22.0</td>\n",
       "      <td>surf</td>\n",
       "      <td>Seattle-Tacoma-Bellevue</td>\n",
       "      <td>WA MSA</td>\n",
       "      <td>20</td>\n",
       "      <td>0.0</td>\n",
       "      <td>0.09</td>\n",
       "      <td>70.0</td>\n",
       "      <td>90.09</td>\n",
       "    </tr>\n",
       "    <tr>\n",
       "      <th>4</th>\n",
       "      <td>1001</td>\n",
       "      <td>11</td>\n",
       "      <td>64</td>\n",
       "      <td>426</td>\n",
       "      <td>36</td>\n",
       "      <td>18504.30</td>\n",
       "      <td>19.0</td>\n",
       "      <td>surf</td>\n",
       "      <td>Seattle-Tacoma-Bellevue</td>\n",
       "      <td>WA MSA</td>\n",
       "      <td>20</td>\n",
       "      <td>0.0</td>\n",
       "      <td>0.00</td>\n",
       "      <td>40.0</td>\n",
       "      <td>60.00</td>\n",
       "    </tr>\n",
       "  </tbody>\n",
       "</table>\n",
       "</div>"
      ],
      "text/plain": [
       "   user_id  month  tot_calls  tot_mins  tot_msgs    tot_mb  tot_gb      plan  \\\n",
       "0     1000     12         16       124        11   1901.47     2.0  ultimate   \n",
       "1     1001      8         27       182        30   6919.15     7.0      surf   \n",
       "2     1001      9         49       315        44  13314.82    14.0      surf   \n",
       "3     1001     10         65       393        53  22330.49    22.0      surf   \n",
       "4     1001     11         64       426        36  18504.30    19.0      surf   \n",
       "\n",
       "                            city  region plan_cost  add_mins_cost  \\\n",
       "0  Atlanta-Sandy Springs-Roswell  GA MSA        70            0.0   \n",
       "1        Seattle-Tacoma-Bellevue  WA MSA        20            0.0   \n",
       "2        Seattle-Tacoma-Bellevue  WA MSA        20            0.0   \n",
       "3        Seattle-Tacoma-Bellevue  WA MSA        20            0.0   \n",
       "4        Seattle-Tacoma-Bellevue  WA MSA        20            0.0   \n",
       "\n",
       "   add_msgs_cost  add_gb_cost  tot_rev  \n",
       "0           0.00          0.0    70.00  \n",
       "1           0.00          0.0    20.00  \n",
       "2           0.00          0.0    20.00  \n",
       "3           0.09         70.0    90.09  \n",
       "4           0.00         40.0    60.00  "
      ]
     },
     "execution_count": 43,
     "metadata": {},
     "output_type": "execute_result"
    }
   ],
   "source": [
    "# Calculate total monthly revenue per user per month\n",
    "mnth_totals['tot_rev'] = mnth_totals[\n",
    "    ['plan_cost','add_mins_cost','add_msgs_cost','add_gb_cost']].sum(axis=1)\n",
    "mnth_totals.info()\n",
    "mnth_totals.head()"
   ]
  },
  {
   "cell_type": "markdown",
   "metadata": {},
   "source": [
    "## Exploratory Data Analysis"
   ]
  },
  {
   "cell_type": "markdown",
   "metadata": {},
   "source": [
    "Usint the newly aggregated data frame, I will calculate some useful descriptive stats to compare the two prepaid plans that Megaline offers. I will also compare the behavior of the clients on the two different prepaid plans. By analyzing these stats, I will determine which prepaid plan is more profitable. "
   ]
  },
  {
   "cell_type": "markdown",
   "metadata": {},
   "source": [
    "### Calls"
   ]
  },
  {
   "cell_type": "code",
   "execution_count": 44,
   "metadata": {},
   "outputs": [
    {
     "data": {
      "image/png": "[encoded data removed]",
      "text/plain": [
       "<Figure size 1500x600 with 1 Axes>"
      ]
     },
     "metadata": {},
     "output_type": "display_data"
    }
   ],
   "source": [
    "# Compare average duration of calls per each plan per each distinct month\n",
    "# Extract the average duration of calls per each plan per month\n",
    "# Combine the average duration data\n",
    "# Plot a bar plat to visualize it\n",
    "surf_avg_calls = mnth_totals[mnth_totals['plan']=='surf'].groupby('month')['tot_mins'].mean()\n",
    "ultimate_avg_calls = mnth_totals[mnth_totals['plan']=='ultimate'].groupby('month')['tot_mins'].mean()\n",
    "avg_call_durations = pd.concat([surf_avg_calls,ultimate_avg_calls],axis='columns')\n",
    "avg_call_durations.columns = ['surf','ultimate']\n",
    "avg_call_durations.plot(kind='bar',\n",
    "                        y=['surf','ultimate'],\n",
    "                        figsize=[15,6])\n",
    "plt.xlabel('Month',fontsize=13)\n",
    "plt.ylabel('Average Duration of Calls (mins)',fontsize=13)\n",
    "plt.title('Average Duration of Calls per Month',fontsize=15)\n",
    "plt.xticks([i for i in range(len(avg_call_durations))],rotation=30, labels=\n",
    "           ['January','February','March','April','May','June','July','August',\n",
    "            'September','October','November','December'])\n",
    "plt.legend(['Surf Plan','Ultimate Plan'])\n",
    "plt.show()"
   ]
  },
  {
   "cell_type": "markdown",
   "metadata": {},
   "source": [
    "**Conclusion** The average duration of calls for each plan is actually fairly similar except for the first 4 months out the year. It is also interesting to see that the average duration of calls is significantly lower for both plans in January. Overall, the average duration of calls for the Ultimate plan, varies more throughout the year. The average duration for the surf plan shows more of a steady rise throughout the year ending with its peak in December. "
   ]
  },
  {
   "cell_type": "code",
   "execution_count": 45,
   "metadata": {},
   "outputs": [
    {
     "data": {
      "image/png": "[encoded data removed]",
      "text/plain": [
       "<Figure size 1500x800 with 1 Axes>"
      ]
     },
     "metadata": {},
     "output_type": "display_data"
    }
   ],
   "source": [
    "# Compare the number of minutes users of each plan require each month\n",
    "# Extract the total minutes each user uses in a month per each plan\n",
    "# Plot both data distributions on a histogram\n",
    "surf_mnth_mins = mnth_totals[mnth_totals['plan']=='surf']['tot_mins']\n",
    "ultimate_mnth_mins = mnth_totals[mnth_totals['plan']=='ultimate']['tot_mins']\n",
    "surf_mnth_mins.plot(kind='hist',\n",
    "                    bins=[0,100,200,300,400,500,600,700,800,900,1000,1100,1200,1300,1400,1500],\n",
    "                    alpha=0.5,\n",
    "                    edgecolor='black',\n",
    "                    figsize=[15,8])\n",
    "ultimate_mnth_mins.plot(kind='hist',\n",
    "                        bins=[0,100,200,300,400,500,600,700,800,900,1000,1100,1200,1300,1400,1500],\n",
    "                        edgecolor='black',\n",
    "                        alpha=0.5)\n",
    "plt.xlabel('Duration of Calls per Month (mins)',fontsize=13)\n",
    "plt.ylabel('Frequency of Users',fontsize=13)\n",
    "plt.title('Distribution of Duration of Calls per Month',fontsize=15)\n",
    "plt.legend(['Surf Plan','Ultimate Plan'])\n",
    "plt.show()"
   ]
  },
  {
   "cell_type": "markdown",
   "metadata": {},
   "source": [
    "**Conclusion** Looking at the distribution of duration of calls for each plan, we can see that there is a larger proportion of clients under the Surf Plan in the sample data. The distributions for both plans are slightly positively skewed. Both plan distributions could potentially have outliers. "
   ]
  },
  {
   "cell_type": "code",
   "execution_count": 46,
   "metadata": {},
   "outputs": [
    {
     "name": "stdout",
     "output_type": "stream",
     "text": [
      "Mean of Surf Plan Monthly Call Duration: 445.78\n",
      "Variance of Surf Plan Monthly Call Duration: 55274.53\n",
      "Standard Deviation of Surf Plan Monthly Call Duration: 235.11\n",
      "\n",
      "Mean of Ultimate Plan Monthly Call Duration: 442.51\n",
      "Variance of Ultimate Plan Monthly Call Duration: 62180.82\n",
      "Standard Deviation of Surf Plan Monthly Call Duration: 249.36\n"
     ]
    }
   ],
   "source": [
    "# Calculate the mean, variance & standard deviation of the monthly call duration for each plan\n",
    "surf_mins_mean = surf_mnth_mins.mean()\n",
    "surf_mins_var = np.var(surf_mnth_mins)\n",
    "surf_mins_std = np.std(surf_mnth_mins)\n",
    "ultimate_mins_mean = ultimate_mnth_mins.mean()\n",
    "ultimate_mins_var = np.var(ultimate_mnth_mins)\n",
    "ultimate_mins_std = np.std(ultimate_mnth_mins)\n",
    "print(f'Mean of Surf Plan Monthly Call Duration: {surf_mins_mean.round(2)}\\n'\n",
    "      f'Variance of Surf Plan Monthly Call Duration: {surf_mins_var.round(2)}\\n'\n",
    "      f'Standard Deviation of Surf Plan Monthly Call Duration: {surf_mins_std.round(2)}\\n'\n",
    "      f'\\n'\n",
    "      f'Mean of Ultimate Plan Monthly Call Duration: {ultimate_mins_mean.round(2)}\\n'\n",
    "      f'Variance of Ultimate Plan Monthly Call Duration: {ultimate_mins_var.round(2)}\\n'\n",
    "     f'Standard Deviation of Surf Plan Monthly Call Duration: {ultimate_mins_std.round(2)}')"
   ]
  },
  {
   "cell_type": "code",
   "execution_count": 47,
   "metadata": {},
   "outputs": [
    {
     "data": {
      "image/png": "[encoded data removed]",
      "text/plain": [
       "<Figure size 1200x800 with 2 Axes>"
      ]
     },
     "metadata": {},
     "output_type": "display_data"
    }
   ],
   "source": [
    "# Plot a boxplot to visualize the distribution of the monthly call duration\n",
    "plt.subplot(121)\n",
    "surf_mnth_mins.plot(kind='box',figsize=[12,8])\n",
    "plt.ylim(0,1500)\n",
    "plt.ylabel('Monthly Call Duration (mins)',fontsize=13)\n",
    "plt.title('Surf Plan',fontsize=13)\n",
    "plt.subplot(122)\n",
    "ultimate_mnth_mins.plot(kind='box')\n",
    "plt.ylim(0,1500)\n",
    "plt.ylabel('Monthly Call Duration (mins)',fontsize=13)\n",
    "plt.title('Ultimate Plan',fontsize=13)\n",
    "plt.suptitle('Distribution of Monthly Call Durations',fontsize=15)\n",
    "plt.show()"
   ]
  },
  {
   "cell_type": "markdown",
   "metadata": {},
   "source": [
    "**Conclusion** Overall, the distributions for monthly call durations for both plans are somewhat similar. The means and standard deviation are close and they are both slightly positively skewed. You can also see that both distributions do have outliers, although it does appear that the Surf Plan has a larger # of outliers than the Ultimate Plan. In regards to the clients' usage and the plan limits, all clients of the Ultimate Plan stayed under the plan limits, whereas less than 75% of clients of the Surf Plan stayed under the plan limits. "
   ]
  },
  {
   "cell_type": "markdown",
   "metadata": {},
   "source": [
    "### Messages"
   ]
  },
  {
   "cell_type": "code",
   "execution_count": 48,
   "metadata": {},
   "outputs": [
    {
     "data": {
      "image/png": "[encoded data removed]",
      "text/plain": [
       "<Figure size 1500x800 with 1 Axes>"
      ]
     },
     "metadata": {},
     "output_type": "display_data"
    }
   ],
   "source": [
    "# Compare the number of messages users of each plan tend to send each month\n",
    "# Extract the total messages each user uses in a month per each plan\n",
    "# Plot both data distributions on a histogram\n",
    "surf_mnth_msgs = mnth_totals[mnth_totals['plan']=='surf']['tot_msgs']\n",
    "ultimate_mnth_msgs = mnth_totals[mnth_totals['plan']=='ultimate']['tot_msgs']\n",
    "surf_mnth_msgs.plot(kind='hist',\n",
    "                    bins=[0,15,30,45,60,75,90,105,120,135,150,165,180,195,210,225,240,255,270],\n",
    "                    alpha=0.5,\n",
    "                    edgecolor='black',\n",
    "                    figsize=[15,8])\n",
    "ultimate_mnth_msgs.plot(kind='hist',\n",
    "                        bins=[0,15,30,45,60,75,90,105,120,135,150,165,180,195,210,225,240,255,270],\n",
    "                        edgecolor='black',\n",
    "                        alpha=0.5)\n",
    "plt.xlabel('Number of Messages per Month',fontsize=13)\n",
    "plt.ylabel('Frequency of Users',fontsize=13)\n",
    "plt.xticks([0,30,60,90,120,150,180,210,240,270])\n",
    "plt.title('Distribution of Messages per Month',fontsize=15)\n",
    "plt.legend(['Surf Plan','Ultimate Plan'])\n",
    "plt.show()"
   ]
  },
  {
   "cell_type": "markdown",
   "metadata": {},
   "source": [
    "**Conclusion** The distribution for both plans are positively skewed and could potentially have outliers."
   ]
  },
  {
   "cell_type": "code",
   "execution_count": 49,
   "metadata": {},
   "outputs": [
    {
     "name": "stdout",
     "output_type": "stream",
     "text": [
      "Mean of Surf Plan Monthly Messages: 39.49\n",
      "Variance of Surf Plan Monthly Messages: 1043.33\n",
      "Standard Deviation of Surf Plan Monthly Messages: 32.3\n",
      "\n",
      "Mean of Ultimate Plan Monthly Messages: 46.46\n",
      "Variance of Ultimate Plan Monthly Messages: 1082.52\n",
      "Standard Deviation of Surf Plan Monthly Messages: 32.9\n"
     ]
    }
   ],
   "source": [
    "# Calculate the mean, variance & standard deviation of the monthly number of messages for each plan\n",
    "surf_msgs_mean = surf_mnth_msgs.mean()\n",
    "surf_msgs_var = np.var(surf_mnth_msgs)\n",
    "surf_msgs_std = np.std(surf_mnth_msgs)\n",
    "ultimate_msgs_mean = ultimate_mnth_msgs.mean()\n",
    "ultimate_msgs_var = np.var(ultimate_mnth_msgs)\n",
    "ultimate_msgs_std = np.std(ultimate_mnth_msgs)\n",
    "print(f'Mean of Surf Plan Monthly Messages: {surf_msgs_mean.round(2)}\\n'\n",
    "      f'Variance of Surf Plan Monthly Messages: {surf_msgs_var.round(2)}\\n'\n",
    "      f'Standard Deviation of Surf Plan Monthly Messages: {surf_msgs_std.round(2)}\\n'\n",
    "      f'\\n'\n",
    "      f'Mean of Ultimate Plan Monthly Messages: {ultimate_msgs_mean.round(2)}\\n'\n",
    "      f'Variance of Ultimate Plan Monthly Messages: {ultimate_msgs_var.round(2)}\\n'\n",
    "      f'Standard Deviation of Surf Plan Monthly Messages: {ultimate_msgs_std.round(2)}')"
   ]
  },
  {
   "cell_type": "code",
   "execution_count": 50,
   "metadata": {},
   "outputs": [
    {
     "data": {
      "image/png": "[encoded data removed]",
      "text/plain": [
       "<Figure size 1200x800 with 2 Axes>"
      ]
     },
     "metadata": {},
     "output_type": "display_data"
    }
   ],
   "source": [
    "# Plot a boxplot to visualize the distribution of the monthly messages\n",
    "plt.subplot(121)\n",
    "surf_mnth_msgs.plot(kind='box',figsize=[12,8])\n",
    "plt.ylim(0,275)\n",
    "plt.yticks([0,25,50,75,100,125,150,175,200,225,250,275])\n",
    "plt.ylabel('Monthly Number of Messages',fontsize=13)\n",
    "plt.title('Surf Plan',fontsize=13)\n",
    "plt.subplot(122)\n",
    "ultimate_mnth_msgs.plot(kind='box')\n",
    "plt.ylim(0,180)\n",
    "plt.ylabel('Monthly Number of Messages',fontsize=13)\n",
    "plt.title('Ultimate Plan',fontsize=13)\n",
    "plt.suptitle('Distribution of Monthly Messages',fontsize=15)\n",
    "plt.show()"
   ]
  },
  {
   "cell_type": "markdown",
   "metadata": {},
   "source": [
    "**Concusion** The distributions for messages have some differences for the two different plans. While both distributions are slightly positively skewed, the distribution for the Surf Plan has more extreme outliers. The distribution for the Ultimate Plan has a larger mean. A larger proportion of clients on the Surf Plan had 50 messages or less per month. All of the Ultimate Plan clients have stayed under the plan limits, but about 25% of the Surf Plan clients have gone over the plan limits for monthly messages. Overall the Ultimate Plan clients do tend to message more each month as compared to the Surf Plan clients."
   ]
  },
  {
   "cell_type": "markdown",
   "metadata": {},
   "source": [
    "### Internet"
   ]
  },
  {
   "cell_type": "code",
   "execution_count": 51,
   "metadata": {
    "scrolled": false
   },
   "outputs": [
    {
     "data": {
      "image/png": "[encoded data removed]",
      "text/plain": [
       "<Figure size 1500x800 with 1 Axes>"
      ]
     },
     "metadata": {},
     "output_type": "display_data"
    }
   ],
   "source": [
    "# Compare the users monthly internet traffic usage for each plan\n",
    "# Extract the total internet traffic usage for each user in a month per each plan\n",
    "# Plot both data distributions on a histogram\n",
    "surf_mnth_int = mnth_totals[mnth_totals['plan']=='surf']['tot_mb'].divide(1000)\n",
    "ultimate_mnth_int = mnth_totals[mnth_totals['plan']=='ultimate']['tot_mb'].divide(1000)\n",
    "surf_mnth_int.plot(kind='hist',\n",
    "                    bins=[0,5,10,15,20,25,30,35,40,45,50,55,60,65,70,75],\n",
    "                    alpha=0.5,\n",
    "                    edgecolor='black',\n",
    "                    figsize=[15,8])\n",
    "ultimate_mnth_int.plot(kind='hist',\n",
    "                        bins=[0,5,10,15,20,25,30,35,40,45,50,55,60,65,70,75],\n",
    "                        edgecolor='black',\n",
    "                        alpha=0.5)\n",
    "plt.xlabel('Internet Usage per Month (GBs)',fontsize=13)\n",
    "plt.ylabel('Frequency of Users',fontsize=13)\n",
    "plt.title('Distribution of Internet Usage per Month',fontsize=15)\n",
    "plt.legend(['Surf Plan','Ultimate Plan'])\n",
    "plt.show()"
   ]
  },
  {
   "cell_type": "markdown",
   "metadata": {},
   "source": [
    "**Conclusion** The distributions of internet usage for both plans appear to be much more symmetrical than the previous distributions. Both distributions potentially could have outliers. "
   ]
  },
  {
   "cell_type": "code",
   "execution_count": 52,
   "metadata": {},
   "outputs": [
    {
     "name": "stdout",
     "output_type": "stream",
     "text": [
      "Mean of Surf Plan Monthly Internet Traffic: 16.63 GBs\n",
      "Variance of Surf Plan Monthly Internet Traffic: 59.46\n",
      "Standard Deviation of Surf Plan Monthly Internet Traffic: 7.71\n",
      "\n",
      "Mean of Ultimate Plan Monthly Internet Traffic: 17.25 GBs\n",
      "Variance of Ultimate Plan Monthly Internet Traffic: 58.99\n",
      "Standard Deviation of Surf Plan Monthly Internet Traffic: 7.68\n"
     ]
    }
   ],
   "source": [
    "# Calculate the mean, variance & standard deviation of the monthly internet traffic usage for each plan\n",
    "surf_int_mean = surf_mnth_int.mean()\n",
    "surf_int_var = np.var(surf_mnth_int)\n",
    "surf_int_std = np.std(surf_mnth_int)\n",
    "ultimate_int_mean = ultimate_mnth_int.mean()\n",
    "ultimate_int_var = np.var(ultimate_mnth_int)\n",
    "ultimate_int_std = np.std(ultimate_mnth_int)\n",
    "print(f'Mean of Surf Plan Monthly Internet Traffic: {surf_int_mean.round(2)} GBs\\n'\n",
    "      f'Variance of Surf Plan Monthly Internet Traffic: {surf_int_var.round(2)}\\n'\n",
    "      f'Standard Deviation of Surf Plan Monthly Internet Traffic: {surf_int_std.round(2)}\\n'\n",
    "      f'\\n'\n",
    "      f'Mean of Ultimate Plan Monthly Internet Traffic: {ultimate_int_mean.round(2)} GBs\\n'\n",
    "      f'Variance of Ultimate Plan Monthly Internet Traffic: {ultimate_int_var.round(2)}\\n'\n",
    "      f'Standard Deviation of Surf Plan Monthly Internet Traffic: {ultimate_int_std.round(2)}')"
   ]
  },
  {
   "cell_type": "code",
   "execution_count": 53,
   "metadata": {},
   "outputs": [
    {
     "data": {
      "image/png": "[encoded data removed]",
      "text/plain": [
       "<Figure size 1200x800 with 2 Axes>"
      ]
     },
     "metadata": {},
     "output_type": "display_data"
    }
   ],
   "source": [
    "# Plot a boxplot to visualize the distribution of the monthly internet traffice usage\n",
    "plt.subplot(121)\n",
    "surf_mnth_int.plot(kind='box',figsize=[12,8])\n",
    "plt.ylim(0,80)\n",
    "plt.ylabel('Monthly Internet Traffic (GBs)',fontsize=13)\n",
    "plt.title('Surf Plan',fontsize=13)\n",
    "plt.subplot(122)\n",
    "ultimate_mnth_int.plot(kind='box')\n",
    "plt.ylim(0,50)\n",
    "plt.ylabel('Monthly Internet Traffic (GBs)',fontsize=13)\n",
    "plt.title('Ultimate Plan',fontsize=13)\n",
    "plt.suptitle('Distribution of Monthly Internet Traffic',fontsize=15)\n",
    "plt.show()"
   ]
  },
  {
   "cell_type": "markdown",
   "metadata": {},
   "source": [
    "**Conclusion** The distributions for both plans do appear to be more symmetrical than the previous distributions. The Surf Plan has more extreme outliers than the Ultimate Plan. A larger proportion of clients on the Ultimate Plan stayed under their plan limits as compared to more than 50% of the client for the Surf Plan is actually over the plan limits of 15BG. Overall the distributions for both plans do appear to be fairly similar. "
   ]
  },
  {
   "cell_type": "markdown",
   "metadata": {},
   "source": [
    "### Revenue"
   ]
  },
  {
   "cell_type": "code",
   "execution_count": 54,
   "metadata": {},
   "outputs": [
    {
     "data": {
      "image/png": "[encoded data removed]",
      "text/plain": [
       "<Figure size 1500x800 with 1 Axes>"
      ]
     },
     "metadata": {},
     "output_type": "display_data"
    }
   ],
   "source": [
    "# Compare the users monthly total revenue for each plan\n",
    "# Extract the total revenue for each user in a month per each plan\n",
    "# Plot both data distributions on a histogram\n",
    "surf_mnth_rev = mnth_totals[mnth_totals['plan']=='surf']['tot_rev']\n",
    "ultimate_mnth_rev = mnth_totals[mnth_totals['plan']=='ultimate']['tot_rev']\n",
    "surf_mnth_rev.plot(kind='hist',\n",
    "                    bins=[20,40,60,80,100,120,140,160,180,200,220,240,260,280,300],\n",
    "                    alpha=0.5,\n",
    "                    edgecolor='black',\n",
    "                    figsize=[15,8])\n",
    "ultimate_mnth_rev.plot(kind='hist',\n",
    "                        bins=[20,40,60,80,100,120,140,160,180,200,220,240,260,280,300],\n",
    "                        edgecolor='black',\n",
    "                        alpha=0.5)\n",
    "plt.xlabel('Total Revnue per Month',fontsize=13)\n",
    "plt.ylabel('Frequency of Users',fontsize=13)\n",
    "plt.xticks([20,60,100,140,180,220,260,300])\n",
    "plt.title('Distribution of Total Monthly Revenue',fontsize=15)\n",
    "plt.legend(['Surf Plan','Ultimate Plan'])\n",
    "plt.show()"
   ]
  },
  {
   "cell_type": "markdown",
   "metadata": {},
   "source": [
    "**Conclusion** There is more of a spread to the distribution of total monthly revenue for the Surf Plan. The Ultimate Plan distribution is centered around the base price of $70/month. The distribution for the Surf Plan is positively skewed and both distributions could potentially have outliers. "
   ]
  },
  {
   "cell_type": "code",
   "execution_count": 55,
   "metadata": {},
   "outputs": [
    {
     "name": "stdout",
     "output_type": "stream",
     "text": [
      "Mean of Surf Plan Monthly Revenue: 60.42\n",
      "Variance of Surf Plan Monthly Revenue: 2870.07\n",
      "Standard Deviation of Surf Plan Monthly Revenue: 53.57\n",
      "\n",
      "Mean of Ultimate Plan Monthly Revenue: 72.25\n",
      "Variance of Ultimate Plan Monthly Revenue: 121.55\n",
      "Standard Deviation of Ultimate Plan Monthly Revenue: 11.02\n"
     ]
    }
   ],
   "source": [
    "# Calculate the mean, variance & standard deviation of the monthly total revenue for each plan\n",
    "surf_rev_mean = surf_mnth_rev.mean()\n",
    "surf_rev_var = np.var(surf_mnth_rev)\n",
    "surf_rev_std = np.std(surf_mnth_rev)\n",
    "ultimate_rev_mean = ultimate_mnth_rev.mean()\n",
    "ultimate_rev_var = np.var(ultimate_mnth_rev)\n",
    "ultimate_rev_std = np.std(ultimate_mnth_rev)\n",
    "print(f'Mean of Surf Plan Monthly Revenue: {surf_rev_mean.round(2)}\\n'\n",
    "      f'Variance of Surf Plan Monthly Revenue: {surf_rev_var.round(2)}\\n'\n",
    "      f'Standard Deviation of Surf Plan Monthly Revenue: {surf_rev_std.round(2)}\\n'\n",
    "      f'\\n'\n",
    "      f'Mean of Ultimate Plan Monthly Revenue: {ultimate_rev_mean.round(2)}\\n'\n",
    "      f'Variance of Ultimate Plan Monthly Revenue: {ultimate_rev_var.round(2)}\\n'\n",
    "      f'Standard Deviation of Ultimate Plan Monthly Revenue: {ultimate_rev_std.round(2)}')"
   ]
  },
  {
   "cell_type": "code",
   "execution_count": 56,
   "metadata": {},
   "outputs": [
    {
     "data": {
      "image/png": "[encoded data removed]",
      "text/plain": [
       "<Figure size 1200x800 with 2 Axes>"
      ]
     },
     "metadata": {},
     "output_type": "display_data"
    }
   ],
   "source": [
    "# Plot a boxplot to visualize the distribution of the monthly internet traffice usage\n",
    "plt.subplot(121)\n",
    "surf_mnth_rev.plot(kind='box',figsize=[12,8])\n",
    "plt.ylim(0,600)\n",
    "plt.yticks([0,50,100,150,200,250,300,350,400,450,500,550,600])\n",
    "plt.ylabel('Monthly Total Revenue',fontsize=13)\n",
    "plt.title('Surf Plan',fontsize=13)\n",
    "plt.subplot(122)\n",
    "ultimate_mnth_rev.plot(kind='box')\n",
    "plt.ylim(0,200)\n",
    "plt.yticks([0,50,100,150,200])\n",
    "plt.ylabel('Monthly Total Revenue',fontsize=13)\n",
    "plt.title('Ultimate Plan',fontsize=13)\n",
    "plt.suptitle('Distribution of Monthly Total Revenue',fontsize=15)\n",
    "plt.show()"
   ]
  },
  {
   "cell_type": "markdown",
   "metadata": {},
   "source": [
    "**Conclusion** The distribution of monthly total revenue is much more dispersed for the Surf Plan. Most of the monthly total revenue distribution for the Ultimate Plan is actually for the 70 base cost. This means that most clients with this plan, tend to stay under the plan limits and do not pay anything additional on top of the base cost. The mean of distribution for the Ultimate Plan is also higher than the Surf Plan distribution, but only by 12. While the Surf Plan has some extreme outliers in it's distribution, 50 percent of the monthly total revenue distribution is actually under 50. The boxplot also shows that only 25 percent of the Surf Plan's distribution stayed under the plan limits and only paid the base price of 20 dollars. This means that clients with the Surf Plan and more likely to exceed the plan limits and pay more than the base price vs the clients with the Ultimate Plan. "
   ]
  },
  {
   "cell_type": "markdown",
   "metadata": {},
   "source": [
    "## Statistical Testing"
   ]
  },
  {
   "cell_type": "markdown",
   "metadata": {},
   "source": [
    "### Test equality of average revenue for each plan\n",
    "Using the total monthly revenue distributions for each plan, I will test the hypothesis that the average revenue from users of the Ultimate and Surf calling plans differs. "
   ]
  },
  {
   "cell_type": "markdown",
   "metadata": {},
   "source": [
    "I will be using the following hypotheses and critical statistical significance of alpha. \n",
    "- Null Hypothesis: The average revenue from users of the Ultimate and Surf calling plans are equal\n",
    "- Alternative Hypothesis: The average revenue from users of the Ultimate and Surf calling plans are not equal\n",
    "- Alpha Value: 5 percent"
   ]
  },
  {
   "cell_type": "code",
   "execution_count": 57,
   "metadata": {},
   "outputs": [
    {
     "name": "stdout",
     "output_type": "stream",
     "text": [
      "p-value: 1.6396969942407266e-07\n"
     ]
    }
   ],
   "source": [
    "# Test the hypotheses\n",
    "alpha = 0.05\n",
    "\n",
    "results1 = st.ttest_ind(surf_mnth_rev,ultimate_mnth_rev)\n",
    "\n",
    "print(f'p-value: {results1.pvalue}')"
   ]
  },
  {
   "cell_type": "markdown",
   "metadata": {},
   "source": [
    "**Conclusion** The pvalue is less than the determined alpha value. We can reject the null hypothesis and can conclude that the average revenue for the Ultimate Plan & Surf Plan are statistically significantly different. "
   ]
  },
  {
   "cell_type": "markdown",
   "metadata": {},
   "source": [
    "### Test average revenue for Ultimate Plan is greater than the Surf Plan\n",
    "Using the total monthly revenue distributions for each plan, I will test the hypothesis that the average revenue from users of the Surf Plan is greater than the Ultimate Plan "
   ]
  },
  {
   "cell_type": "markdown",
   "metadata": {},
   "source": [
    "I will be using the following hypotheses and critical statistical significance of alpha. \n",
    "- Null Hypothesis: The average revenue from users of the Ultimate and Surf calling plans are equal\n",
    "- Alternative Hypothesis: The average revenue from users of the Surf Plan is less than the Ultimate Plan\n",
    "- Alpha Value: 5 percent"
   ]
  },
  {
   "cell_type": "code",
   "execution_count": 58,
   "metadata": {},
   "outputs": [
    {
     "name": "stdout",
     "output_type": "stream",
     "text": [
      "p-value: 8.198484971203633e-08\n"
     ]
    }
   ],
   "source": [
    "# Test the hypotheses\n",
    "alpha = 0.05\n",
    "\n",
    "results2 = st.ttest_ind(surf_mnth_rev,ultimate_mnth_rev,alternative='less')\n",
    "\n",
    "print(f'p-value: {results2.pvalue}')"
   ]
  },
  {
   "cell_type": "markdown",
   "metadata": {},
   "source": [
    "**Conclusion** The pvalue is less than the determined alpha value. We can reject the null hypothesis and can conclude that the average revenue for the Surf Plan is less than the Ultimate Plan. "
   ]
  },
  {
   "cell_type": "markdown",
   "metadata": {},
   "source": [
    "### Test equality of average revenue from users in the NY-NJ area vs. all other users\n",
    "Using the monthly totals dataframe, I will extract 2 datasets of the total monthly revenue by user for users in the NY-NJ area & for users from all other regions. "
   ]
  },
  {
   "cell_type": "code",
   "execution_count": 59,
   "metadata": {},
   "outputs": [],
   "source": [
    "# Create two new datasets based on the users location\n",
    "nynj_user_rev = mnth_totals[mnth_totals['region']=='NY-NJ-PA MSA']['tot_rev']\n",
    "other_user_rev = mnth_totals[mnth_totals['region']!='NY-NJ-PA MSA']['tot_rev']"
   ]
  },
  {
   "cell_type": "markdown",
   "metadata": {},
   "source": [
    "I will be using the following hypotheses and critical statistical significance of alpha. \n",
    "- Null Hypothesis: The average revenue from users of from the NY-NJ region & all other regions are equal\n",
    "- Alternative Hypothesis: he average revenue from users of from the NY-NJ region & all other regions are not equal\n",
    "- Alpha Value: 5 percent"
   ]
  },
  {
   "cell_type": "code",
   "execution_count": 60,
   "metadata": {},
   "outputs": [
    {
     "name": "stdout",
     "output_type": "stream",
     "text": [
      "p-value: 0.010353440224856581\n"
     ]
    }
   ],
   "source": [
    "# Test the hypotheses\n",
    "alpha = 0.05\n",
    "\n",
    "results3 = st.ttest_ind(nynj_user_rev,other_user_rev)\n",
    "\n",
    "print(f'p-value: {results3.pvalue}')"
   ]
  },
  {
   "cell_type": "markdown",
   "metadata": {},
   "source": [
    "**Conclusion** The pvalue is less than the determined alpha value. We must reject the null hypothesis and can determine that the average revenue from users in the NY-NJ area does differ from the average revenue from all other regions. "
   ]
  },
  {
   "cell_type": "markdown",
   "metadata": {},
   "source": [
    "# Conclusion\n",
    "\n",
    "After analyzing the user behavior for both plans as well as testing some statistical hypotheses in regards to the average revenue for the plans, I have determined that the Surf Plan is the more profitable prepaid plan. While the average revenue for the Ultimate Plan was higher, clients of the Surf Plan has more potential to have higher monthly revenues. With such high plan limits for the Ultimate Plan, it is less likely for an Ultimate Plan client to exceed their monthly limits and pay any additional costs on top of the base cost. This means almost all of the clients under the Ultimate Plan will only pay 70 dollars a month. In contrast, the total monthly revenues distribution showed that only 25 percent of clients stay within the monthly plan limits. This means that a large proportion of clients are more likely to pay additional costs on top of the base cost. This is shown especially with the user behavior for internet traffic. Half of the distribution of clients internet usage is actually over the monthly limits. Also looking at the distribution of total monthly revenues for the Surf Plan we can see that 25 percent of the distribution is over 70 dollars. This is a significant amount of the population that will be paying more than the base cost of the Ultimate Plan and shows that there is more revenue potential with the Surf Plan. "
   ]
  }
 ],
 "metadata": {
  "ExecuteTimeLog": [
   {
    "duration": 828,
    "start_time": "2021-11-16T09:21:11.304Z"
   },
   {
    "duration": 893,
    "start_time": "2021-11-16T09:21:17.728Z"
   },
   {
    "duration": 1150,
    "start_time": "2021-11-16T09:21:29.568Z"
   },
   {
    "duration": 3,
    "start_time": "2021-11-16T09:24:14.495Z"
   },
   {
    "duration": 120,
    "start_time": "2021-11-16T09:24:46.630Z"
   },
   {
    "duration": 3,
    "start_time": "2021-11-16T09:28:27.882Z"
   },
   {
    "duration": 4,
    "start_time": "2021-11-16T09:29:54.281Z"
   },
   {
    "duration": 3,
    "start_time": "2021-11-16T09:30:45.936Z"
   },
   {
    "duration": 4,
    "start_time": "2021-11-16T09:31:06.300Z"
   },
   {
    "duration": 113,
    "start_time": "2021-11-16T09:31:37.208Z"
   },
   {
    "duration": 143,
    "start_time": "2021-11-16T09:31:48.656Z"
   },
   {
    "duration": 98,
    "start_time": "2021-11-16T09:31:55.678Z"
   },
   {
    "duration": 3,
    "start_time": "2021-11-16T09:32:08.535Z"
   },
   {
    "duration": 111,
    "start_time": "2021-11-16T09:32:10.120Z"
   },
   {
    "duration": 3,
    "start_time": "2021-11-16T09:32:15.732Z"
   },
   {
    "duration": 4,
    "start_time": "2021-11-16T09:32:29.423Z"
   },
   {
    "duration": 3,
    "start_time": "2021-11-16T10:03:03.074Z"
   },
   {
    "duration": 3,
    "start_time": "2021-11-16T10:10:01.288Z"
   },
   {
    "duration": 3,
    "start_time": "2021-11-16T10:10:46.923Z"
   },
   {
    "duration": 121,
    "start_time": "2021-11-16T10:37:46.494Z"
   },
   {
    "duration": 125,
    "start_time": "2021-11-16T10:38:20.632Z"
   },
   {
    "duration": 112,
    "start_time": "2021-11-16T10:46:53.001Z"
   },
   {
    "duration": 110,
    "start_time": "2021-11-16T10:48:25.775Z"
   },
   {
    "duration": 3,
    "start_time": "2021-11-16T10:50:18.720Z"
   },
   {
    "duration": 4,
    "start_time": "2021-11-16T10:50:37.649Z"
   },
   {
    "duration": 2,
    "start_time": "2021-11-16T10:50:51.884Z"
   },
   {
    "duration": 3,
    "start_time": "2021-11-16T10:51:56.237Z"
   },
   {
    "duration": 101,
    "start_time": "2021-11-16T10:53:13.791Z"
   },
   {
    "duration": 3,
    "start_time": "2021-11-16T10:55:59.186Z"
   },
   {
    "duration": 3,
    "start_time": "2021-11-16T10:56:10.751Z"
   },
   {
    "duration": 3,
    "start_time": "2021-11-16T10:56:49.038Z"
   },
   {
    "duration": 3,
    "start_time": "2021-11-16T10:56:49.174Z"
   },
   {
    "duration": 4,
    "start_time": "2021-11-16T10:56:49.414Z"
   },
   {
    "duration": 3,
    "start_time": "2021-11-16T10:56:49.680Z"
   },
   {
    "duration": 3,
    "start_time": "2021-11-16T10:56:50.370Z"
   },
   {
    "duration": 114,
    "start_time": "2021-11-16T10:59:34.518Z"
   },
   {
    "duration": 3,
    "start_time": "2021-11-16T11:01:41.201Z"
   },
   {
    "duration": 116,
    "start_time": "2021-11-16T11:01:48.754Z"
   },
   {
    "duration": 3,
    "start_time": "2021-11-16T11:02:16.685Z"
   },
   {
    "duration": 3,
    "start_time": "2021-11-16T11:02:19.479Z"
   },
   {
    "duration": 3,
    "start_time": "2021-11-16T11:02:47.067Z"
   },
   {
    "duration": 3,
    "start_time": "2021-11-16T11:02:49.353Z"
   },
   {
    "duration": 3,
    "start_time": "2021-11-16T11:03:07.835Z"
   },
   {
    "duration": 3,
    "start_time": "2021-11-16T11:03:07.953Z"
   },
   {
    "duration": 112,
    "start_time": "2021-11-16T11:07:52.072Z"
   },
   {
    "duration": 187,
    "start_time": "2021-11-16T11:09:23.468Z"
   },
   {
    "duration": 4,
    "start_time": "2021-11-16T11:10:01.455Z"
   },
   {
    "duration": 3,
    "start_time": "2021-11-16T11:10:05.069Z"
   },
   {
    "duration": 4,
    "start_time": "2021-11-16T11:10:13.376Z"
   },
   {
    "duration": 3,
    "start_time": "2021-11-16T11:10:14.434Z"
   },
   {
    "duration": 3,
    "start_time": "2021-11-16T11:10:22.853Z"
   },
   {
    "duration": 4,
    "start_time": "2021-11-16T11:27:29.279Z"
   },
   {
    "duration": 4,
    "start_time": "2021-11-16T11:29:08.919Z"
   },
   {
    "duration": 118,
    "start_time": "2021-11-16T11:29:46.703Z"
   },
   {
    "duration": 437,
    "start_time": "2021-11-16T11:36:02.181Z"
   },
   {
    "duration": 157,
    "start_time": "2021-11-16T11:36:14.388Z"
   },
   {
    "duration": 207,
    "start_time": "2021-11-16T11:47:15.898Z"
   },
   {
    "duration": 3,
    "start_time": "2021-11-16T11:53:52.092Z"
   },
   {
    "duration": 3,
    "start_time": "2021-11-16T11:53:52.236Z"
   },
   {
    "duration": 3,
    "start_time": "2021-11-16T11:59:12.005Z"
   },
   {
    "duration": 112,
    "start_time": "2021-11-16T12:00:33.446Z"
   },
   {
    "duration": 3,
    "start_time": "2021-11-16T12:02:14.453Z"
   },
   {
    "duration": 3,
    "start_time": "2021-11-16T12:02:39.512Z"
   },
   {
    "duration": 106,
    "start_time": "2021-11-16T12:03:03.460Z"
   },
   {
    "duration": 3,
    "start_time": "2021-11-17T20:37:21.139Z"
   },
   {
    "duration": 3,
    "start_time": "2021-11-17T20:37:22.229Z"
   },
   {
    "duration": 3,
    "start_time": "2021-11-17T20:38:38.806Z"
   },
   {
    "duration": 3,
    "start_time": "2021-11-17T20:38:41.958Z"
   },
   {
    "duration": 3,
    "start_time": "2021-11-17T20:43:46.551Z"
   },
   {
    "duration": 4,
    "start_time": "2021-11-17T20:58:21.835Z"
   },
   {
    "duration": 3,
    "start_time": "2021-11-17T20:59:21.872Z"
   },
   {
    "duration": 4,
    "start_time": "2021-11-17T20:59:45.352Z"
   },
   {
    "duration": 4,
    "start_time": "2021-11-17T20:59:49.646Z"
   },
   {
    "duration": 159,
    "start_time": "2021-11-17T21:02:26.949Z"
   },
   {
    "duration": 3,
    "start_time": "2021-11-17T21:03:53.461Z"
   },
   {
    "duration": 3,
    "start_time": "2021-11-17T21:03:53.694Z"
   },
   {
    "duration": 3,
    "start_time": "2021-11-17T21:05:28.145Z"
   },
   {
    "duration": 116,
    "start_time": "2021-11-17T21:05:57.787Z"
   },
   {
    "duration": 3,
    "start_time": "2021-11-17T21:06:37.993Z"
   },
   {
    "duration": 3,
    "start_time": "2021-11-17T21:06:38.261Z"
   },
   {
    "duration": 3,
    "start_time": "2021-11-17T21:11:54.358Z"
   },
   {
    "duration": 3,
    "start_time": "2021-11-17T21:12:43.846Z"
   },
   {
    "duration": 4,
    "start_time": "2021-11-17T21:13:08.773Z"
   },
   {
    "duration": 3,
    "start_time": "2021-11-17T21:14:44.441Z"
   },
   {
    "duration": 3,
    "start_time": "2021-11-17T21:15:42.059Z"
   },
   {
    "duration": 4,
    "start_time": "2021-11-17T21:15:51.995Z"
   },
   {
    "duration": 3,
    "start_time": "2021-11-17T21:15:53.923Z"
   },
   {
    "duration": 3,
    "start_time": "2021-11-17T21:15:55.282Z"
   },
   {
    "duration": 3,
    "start_time": "2021-11-17T21:16:28.492Z"
   },
   {
    "duration": 3,
    "start_time": "2021-11-17T21:16:32.603Z"
   },
   {
    "duration": 3,
    "start_time": "2021-11-17T21:17:06.941Z"
   },
   {
    "duration": 98,
    "start_time": "2021-11-17T21:18:05.733Z"
   },
   {
    "duration": 4,
    "start_time": "2021-11-17T21:21:35.255Z"
   },
   {
    "duration": 3,
    "start_time": "2021-11-17T21:21:37.804Z"
   },
   {
    "duration": 4,
    "start_time": "2021-11-17T21:23:06.071Z"
   },
   {
    "duration": 3,
    "start_time": "2021-11-17T21:23:24.799Z"
   },
   {
    "duration": 3,
    "start_time": "2021-11-17T21:23:32.591Z"
   },
   {
    "duration": 98,
    "start_time": "2021-11-17T21:28:31.559Z"
   },
   {
    "duration": 3,
    "start_time": "2021-11-17T21:28:45.448Z"
   },
   {
    "duration": 3,
    "start_time": "2021-11-17T21:29:17.303Z"
   },
   {
    "duration": 3,
    "start_time": "2021-11-17T21:29:29.617Z"
   },
   {
    "duration": 3,
    "start_time": "2021-11-17T21:29:32.681Z"
   },
   {
    "duration": 3,
    "start_time": "2021-11-17T21:36:11.474Z"
   },
   {
    "duration": 3,
    "start_time": "2021-11-17T21:36:14.791Z"
   },
   {
    "duration": 3,
    "start_time": "2021-11-17T21:36:53.943Z"
   },
   {
    "duration": 3,
    "start_time": "2021-11-17T21:36:56.165Z"
   },
   {
    "duration": 4,
    "start_time": "2021-11-17T21:37:16.590Z"
   },
   {
    "duration": 3,
    "start_time": "2021-11-17T21:37:22.702Z"
   },
   {
    "duration": 4,
    "start_time": "2021-11-17T21:38:03.479Z"
   },
   {
    "duration": 3,
    "start_time": "2021-11-17T21:38:08.601Z"
   },
   {
    "duration": 3,
    "start_time": "2021-11-17T21:38:12.928Z"
   },
   {
    "duration": 3,
    "start_time": "2021-11-17T21:38:48.896Z"
   },
   {
    "duration": 2,
    "start_time": "2021-11-17T21:38:49.171Z"
   },
   {
    "duration": 4,
    "start_time": "2021-11-17T21:39:57.889Z"
   },
   {
    "duration": 3,
    "start_time": "2021-11-17T21:39:58.057Z"
   },
   {
    "duration": 3,
    "start_time": "2021-11-17T21:41:20.108Z"
   },
   {
    "duration": 3,
    "start_time": "2021-11-17T21:41:20.629Z"
   },
   {
    "duration": 3,
    "start_time": "2021-11-17T21:42:49.136Z"
   },
   {
    "duration": 3,
    "start_time": "2021-11-17T21:43:15.137Z"
   },
   {
    "duration": 4,
    "start_time": "2021-11-17T21:43:16.766Z"
   },
   {
    "duration": 4,
    "start_time": "2021-11-17T21:43:31.711Z"
   },
   {
    "duration": 3,
    "start_time": "2021-11-17T21:43:36.312Z"
   },
   {
    "duration": 4,
    "start_time": "2021-11-17T21:45:08.825Z"
   },
   {
    "duration": 4,
    "start_time": "2021-11-17T21:45:10.119Z"
   },
   {
    "duration": 4,
    "start_time": "2021-11-17T21:45:13.748Z"
   },
   {
    "duration": 3,
    "start_time": "2021-11-17T21:45:22.219Z"
   },
   {
    "duration": 3,
    "start_time": "2021-11-17T21:45:33.412Z"
   },
   {
    "duration": 2,
    "start_time": "2021-11-17T21:46:01.885Z"
   },
   {
    "duration": 3,
    "start_time": "2021-11-17T21:46:03.628Z"
   },
   {
    "duration": 107,
    "start_time": "2021-11-17T21:47:32.512Z"
   },
   {
    "duration": 103,
    "start_time": "2021-11-17T21:50:36.243Z"
   },
   {
    "duration": 3,
    "start_time": "2021-11-18T06:28:31.440Z"
   },
   {
    "duration": 3,
    "start_time": "2021-11-18T06:29:00.168Z"
   },
   {
    "duration": 3,
    "start_time": "2021-11-18T06:31:27.008Z"
   },
   {
    "duration": 2,
    "start_time": "2021-11-18T06:35:34.288Z"
   },
   {
    "duration": 2,
    "start_time": "2021-11-18T06:38:04.527Z"
   }
  ],
  "kernelspec": {
   "display_name": "Python 3 (ipykernel)",
   "language": "python",
   "name": "python3"
  },
  "language_info": {
   "codemirror_mode": {
    "name": "ipython",
    "version": 3
   },
   "file_extension": ".py",
   "mimetype": "text/x-python",
   "name": "python",
   "nbconvert_exporter": "python",
   "pygments_lexer": "ipython3",
   "version": "3.9.19"
  },
  "toc": {
   "base_numbering": 1,
   "nav_menu": {},
   "number_sections": true,
   "sideBar": true,
   "skip_h1_title": false,
   "title_cell": "Table of Contents",
   "title_sidebar": "Contents",
   "toc_cell": false,
   "toc_position": {
    "height": "calc(100% - 180px)",
    "left": "10px",
    "top": "150px",
    "width": "165px"
   },
   "toc_section_display": true,
   "toc_window_display": true
  }
 },
 "nbformat": 4,
 "nbformat_minor": 2
}
