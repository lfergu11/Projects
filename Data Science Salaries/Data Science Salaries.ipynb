{
 "cells": [
  {
   "cell_type": "markdown",
   "metadata": {},
   "source": [
    "# Data Science Salaries"
   ]
  },
  {
   "cell_type": "markdown",
   "metadata": {},
   "source": [
    "## Introduction\n",
    "In recent years, the field of data science has experience exponential growth, with organizations across various industries recognizing the value of data-driven insights. As demand for data scientists continues to rise, understanding the factors that influence job salaries becomes crucial for both employers and job seekers. This project aims to analyze data science job salaries in the United States from 2020 to 2023, exploring trends and patterns in compensation and developing a machine learning model to predict salaries based on multiple factors. "
   ]
  },
  {
   "cell_type": "markdown",
   "metadata": {},
   "source": [
    "### Stages\n",
    "1. Data Preprocessing\n",
    "2. Exploratory Data Analysis\n",
    "3. Statistical Analysis\n",
    "3. Feature Engineering\n",
    "4. Model Development\n",
    "5. Model Evaluation\n",
    "6. Conclusion"
   ]
  },
  {
   "cell_type": "markdown",
   "metadata": {},
   "source": [
    "## Data Preprocessing"
   ]
  },
  {
   "cell_type": "code",
   "execution_count": 1,
   "metadata": {},
   "outputs": [],
   "source": [
    "# import libraries\n",
    "import pandas as pd\n",
    "import numpy as np"
   ]
  },
  {
   "cell_type": "code",
   "execution_count": 2,
   "metadata": {},
   "outputs": [],
   "source": [
    "# load data\n",
    "df = pd.read_csv('v7_Latest_Data_Science_Salaries.csv')"
   ]
  },
  {
   "cell_type": "code",
   "execution_count": 3,
   "metadata": {},
   "outputs": [
    {
     "name": "stdout",
     "output_type": "stream",
     "text": [
      "<class 'pandas.core.frame.DataFrame'>\n",
      "RangeIndex: 5736 entries, 0 to 5735\n",
      "Data columns (total 11 columns):\n",
      " #   Column              Non-Null Count  Dtype \n",
      "---  ------              --------------  ----- \n",
      " 0   Job Title           5736 non-null   object\n",
      " 1   Employment Type     5736 non-null   object\n",
      " 2   Experience Level    5736 non-null   object\n",
      " 3   Expertise Level     5736 non-null   object\n",
      " 4   Salary              5736 non-null   int64 \n",
      " 5   Salary Currency     5736 non-null   object\n",
      " 6   Company Location    5736 non-null   object\n",
      " 7   Salary in USD       5736 non-null   int64 \n",
      " 8   Employee Residence  5736 non-null   object\n",
      " 9   Company Size        5736 non-null   object\n",
      " 10  Year                5736 non-null   int64 \n",
      "dtypes: int64(3), object(8)\n",
      "memory usage: 493.1+ KB\n"
     ]
    },
    {
     "data": {
      "text/html": [
       "<div>\n",
       "<style scoped>\n",
       "    .dataframe tbody tr th:only-of-type {\n",
       "        vertical-align: middle;\n",
       "    }\n",
       "\n",
       "    .dataframe tbody tr th {\n",
       "        vertical-align: top;\n",
       "    }\n",
       "\n",
       "    .dataframe thead th {\n",
       "        text-align: right;\n",
       "    }\n",
       "</style>\n",
       "<table border=\"1\" class=\"dataframe\">\n",
       "  <thead>\n",
       "    <tr style=\"text-align: right;\">\n",
       "      <th></th>\n",
       "      <th>Job Title</th>\n",
       "      <th>Employment Type</th>\n",
       "      <th>Experience Level</th>\n",
       "      <th>Expertise Level</th>\n",
       "      <th>Salary</th>\n",
       "      <th>Salary Currency</th>\n",
       "      <th>Company Location</th>\n",
       "      <th>Salary in USD</th>\n",
       "      <th>Employee Residence</th>\n",
       "      <th>Company Size</th>\n",
       "      <th>Year</th>\n",
       "    </tr>\n",
       "  </thead>\n",
       "  <tbody>\n",
       "    <tr>\n",
       "      <th>4053</th>\n",
       "      <td>Data Engineer</td>\n",
       "      <td>Full-Time</td>\n",
       "      <td>Entry</td>\n",
       "      <td>Junior</td>\n",
       "      <td>90000</td>\n",
       "      <td>United States Dollar</td>\n",
       "      <td>United States</td>\n",
       "      <td>90000</td>\n",
       "      <td>United States</td>\n",
       "      <td>Medium</td>\n",
       "      <td>2023</td>\n",
       "    </tr>\n",
       "    <tr>\n",
       "      <th>86</th>\n",
       "      <td>Research Analyst</td>\n",
       "      <td>Full-Time</td>\n",
       "      <td>Senior</td>\n",
       "      <td>Expert</td>\n",
       "      <td>200000</td>\n",
       "      <td>United States Dollar</td>\n",
       "      <td>United States</td>\n",
       "      <td>200000</td>\n",
       "      <td>United States</td>\n",
       "      <td>Medium</td>\n",
       "      <td>2024</td>\n",
       "    </tr>\n",
       "    <tr>\n",
       "      <th>2585</th>\n",
       "      <td>Data Engineer</td>\n",
       "      <td>Full-Time</td>\n",
       "      <td>Mid</td>\n",
       "      <td>Intermediate</td>\n",
       "      <td>90000</td>\n",
       "      <td>British Pound Sterling</td>\n",
       "      <td>United Kingdom</td>\n",
       "      <td>110736</td>\n",
       "      <td>United Kingdom</td>\n",
       "      <td>Medium</td>\n",
       "      <td>2023</td>\n",
       "    </tr>\n",
       "    <tr>\n",
       "      <th>1670</th>\n",
       "      <td>Machine Learning Engineer</td>\n",
       "      <td>Full-Time</td>\n",
       "      <td>Senior</td>\n",
       "      <td>Expert</td>\n",
       "      <td>205600</td>\n",
       "      <td>United States Dollar</td>\n",
       "      <td>United States</td>\n",
       "      <td>205600</td>\n",
       "      <td>United States</td>\n",
       "      <td>Medium</td>\n",
       "      <td>2023</td>\n",
       "    </tr>\n",
       "    <tr>\n",
       "      <th>3768</th>\n",
       "      <td>Data Engineer</td>\n",
       "      <td>Full-Time</td>\n",
       "      <td>Mid</td>\n",
       "      <td>Intermediate</td>\n",
       "      <td>186600</td>\n",
       "      <td>United States Dollar</td>\n",
       "      <td>United States</td>\n",
       "      <td>186600</td>\n",
       "      <td>United States</td>\n",
       "      <td>Medium</td>\n",
       "      <td>2023</td>\n",
       "    </tr>\n",
       "    <tr>\n",
       "      <th>836</th>\n",
       "      <td>Data Analyst</td>\n",
       "      <td>Full-Time</td>\n",
       "      <td>Entry</td>\n",
       "      <td>Junior</td>\n",
       "      <td>44000</td>\n",
       "      <td>British Pound Sterling</td>\n",
       "      <td>United Kingdom</td>\n",
       "      <td>54137</td>\n",
       "      <td>United Kingdom</td>\n",
       "      <td>Medium</td>\n",
       "      <td>2023</td>\n",
       "    </tr>\n",
       "    <tr>\n",
       "      <th>4588</th>\n",
       "      <td>Research Engineer</td>\n",
       "      <td>Full-Time</td>\n",
       "      <td>Senior</td>\n",
       "      <td>Expert</td>\n",
       "      <td>249500</td>\n",
       "      <td>United States Dollar</td>\n",
       "      <td>United States</td>\n",
       "      <td>249500</td>\n",
       "      <td>United States</td>\n",
       "      <td>Medium</td>\n",
       "      <td>2022</td>\n",
       "    </tr>\n",
       "    <tr>\n",
       "      <th>3059</th>\n",
       "      <td>ML Engineer</td>\n",
       "      <td>Full-Time</td>\n",
       "      <td>Senior</td>\n",
       "      <td>Expert</td>\n",
       "      <td>290000</td>\n",
       "      <td>United States Dollar</td>\n",
       "      <td>United States</td>\n",
       "      <td>290000</td>\n",
       "      <td>United States</td>\n",
       "      <td>Medium</td>\n",
       "      <td>2023</td>\n",
       "    </tr>\n",
       "    <tr>\n",
       "      <th>2391</th>\n",
       "      <td>Data Engineer</td>\n",
       "      <td>Full-Time</td>\n",
       "      <td>Senior</td>\n",
       "      <td>Expert</td>\n",
       "      <td>129000</td>\n",
       "      <td>United States Dollar</td>\n",
       "      <td>United States</td>\n",
       "      <td>129000</td>\n",
       "      <td>United States</td>\n",
       "      <td>Medium</td>\n",
       "      <td>2023</td>\n",
       "    </tr>\n",
       "    <tr>\n",
       "      <th>3872</th>\n",
       "      <td>Data Engineer</td>\n",
       "      <td>Full-Time</td>\n",
       "      <td>Senior</td>\n",
       "      <td>Expert</td>\n",
       "      <td>179170</td>\n",
       "      <td>United States Dollar</td>\n",
       "      <td>United States</td>\n",
       "      <td>179170</td>\n",
       "      <td>United States</td>\n",
       "      <td>Medium</td>\n",
       "      <td>2023</td>\n",
       "    </tr>\n",
       "  </tbody>\n",
       "</table>\n",
       "</div>"
      ],
      "text/plain": [
       "                      Job Title Employment Type Experience Level  \\\n",
       "4053              Data Engineer       Full-Time            Entry   \n",
       "86             Research Analyst       Full-Time           Senior   \n",
       "2585              Data Engineer       Full-Time              Mid   \n",
       "1670  Machine Learning Engineer       Full-Time           Senior   \n",
       "3768              Data Engineer       Full-Time              Mid   \n",
       "836                Data Analyst       Full-Time            Entry   \n",
       "4588          Research Engineer       Full-Time           Senior   \n",
       "3059                ML Engineer       Full-Time           Senior   \n",
       "2391              Data Engineer       Full-Time           Senior   \n",
       "3872              Data Engineer       Full-Time           Senior   \n",
       "\n",
       "     Expertise Level  Salary         Salary Currency Company Location  \\\n",
       "4053          Junior   90000    United States Dollar    United States   \n",
       "86            Expert  200000    United States Dollar    United States   \n",
       "2585    Intermediate   90000  British Pound Sterling   United Kingdom   \n",
       "1670          Expert  205600    United States Dollar    United States   \n",
       "3768    Intermediate  186600    United States Dollar    United States   \n",
       "836           Junior   44000  British Pound Sterling   United Kingdom   \n",
       "4588          Expert  249500    United States Dollar    United States   \n",
       "3059          Expert  290000    United States Dollar    United States   \n",
       "2391          Expert  129000    United States Dollar    United States   \n",
       "3872          Expert  179170    United States Dollar    United States   \n",
       "\n",
       "      Salary in USD Employee Residence Company Size  Year  \n",
       "4053          90000      United States       Medium  2023  \n",
       "86           200000      United States       Medium  2024  \n",
       "2585         110736     United Kingdom       Medium  2023  \n",
       "1670         205600      United States       Medium  2023  \n",
       "3768         186600      United States       Medium  2023  \n",
       "836           54137     United Kingdom       Medium  2023  \n",
       "4588         249500      United States       Medium  2022  \n",
       "3059         290000      United States       Medium  2023  \n",
       "2391         129000      United States       Medium  2023  \n",
       "3872         179170      United States       Medium  2023  "
      ]
     },
     "execution_count": 3,
     "metadata": {},
     "output_type": "execute_result"
    }
   ],
   "source": [
    "# general info on data\n",
    "df.info()\n",
    "df.sample(10)"
   ]
  },
  {
   "cell_type": "code",
   "execution_count": 4,
   "metadata": {},
   "outputs": [],
   "source": [
    "# fix columns naming conventions\n",
    "df.columns = df.columns.str.lower()\n",
    "df.columns = df.columns.str.replace(' ','_')"
   ]
  },
  {
   "cell_type": "code",
   "execution_count": 5,
   "metadata": {},
   "outputs": [],
   "source": [
    "# change all string values to lowercase\n",
    "columns_str = ['job_title','employment_type','experience_level','expertise_level','salary_currency','company_location','employee_residence','company_size']\n",
    "for element in columns_str:\n",
    "    df[element] = df[element].apply(lambda x: x.lower())"
   ]
  },
  {
   "cell_type": "code",
   "execution_count": 6,
   "metadata": {},
   "outputs": [
    {
     "name": "stdout",
     "output_type": "stream",
     "text": [
      "<class 'pandas.core.frame.DataFrame'>\n",
      "RangeIndex: 5736 entries, 0 to 5735\n",
      "Data columns (total 11 columns):\n",
      " #   Column              Non-Null Count  Dtype \n",
      "---  ------              --------------  ----- \n",
      " 0   job_title           5736 non-null   object\n",
      " 1   employment_type     5736 non-null   object\n",
      " 2   experience_level    5736 non-null   object\n",
      " 3   expertise_level     5736 non-null   object\n",
      " 4   salary              5736 non-null   int64 \n",
      " 5   salary_currency     5736 non-null   object\n",
      " 6   company_location    5736 non-null   object\n",
      " 7   salary_in_usd       5736 non-null   int64 \n",
      " 8   employee_residence  5736 non-null   object\n",
      " 9   company_size        5736 non-null   object\n",
      " 10  year                5736 non-null   int64 \n",
      "dtypes: int64(3), object(8)\n",
      "memory usage: 493.1+ KB\n"
     ]
    },
    {
     "data": {
      "text/html": [
       "<div>\n",
       "<style scoped>\n",
       "    .dataframe tbody tr th:only-of-type {\n",
       "        vertical-align: middle;\n",
       "    }\n",
       "\n",
       "    .dataframe tbody tr th {\n",
       "        vertical-align: top;\n",
       "    }\n",
       "\n",
       "    .dataframe thead th {\n",
       "        text-align: right;\n",
       "    }\n",
       "</style>\n",
       "<table border=\"1\" class=\"dataframe\">\n",
       "  <thead>\n",
       "    <tr style=\"text-align: right;\">\n",
       "      <th></th>\n",
       "      <th>job_title</th>\n",
       "      <th>employment_type</th>\n",
       "      <th>experience_level</th>\n",
       "      <th>expertise_level</th>\n",
       "      <th>salary</th>\n",
       "      <th>salary_currency</th>\n",
       "      <th>company_location</th>\n",
       "      <th>salary_in_usd</th>\n",
       "      <th>employee_residence</th>\n",
       "      <th>company_size</th>\n",
       "      <th>year</th>\n",
       "    </tr>\n",
       "  </thead>\n",
       "  <tbody>\n",
       "    <tr>\n",
       "      <th>2810</th>\n",
       "      <td>data analyst</td>\n",
       "      <td>full-time</td>\n",
       "      <td>senior</td>\n",
       "      <td>expert</td>\n",
       "      <td>192000</td>\n",
       "      <td>united states dollar</td>\n",
       "      <td>canada</td>\n",
       "      <td>192000</td>\n",
       "      <td>canada</td>\n",
       "      <td>medium</td>\n",
       "      <td>2023</td>\n",
       "    </tr>\n",
       "    <tr>\n",
       "      <th>1222</th>\n",
       "      <td>data scientist</td>\n",
       "      <td>full-time</td>\n",
       "      <td>senior</td>\n",
       "      <td>expert</td>\n",
       "      <td>190200</td>\n",
       "      <td>united states dollar</td>\n",
       "      <td>united states</td>\n",
       "      <td>190200</td>\n",
       "      <td>united states</td>\n",
       "      <td>medium</td>\n",
       "      <td>2023</td>\n",
       "    </tr>\n",
       "    <tr>\n",
       "      <th>2373</th>\n",
       "      <td>research scientist</td>\n",
       "      <td>full-time</td>\n",
       "      <td>senior</td>\n",
       "      <td>expert</td>\n",
       "      <td>120000</td>\n",
       "      <td>united states dollar</td>\n",
       "      <td>united states</td>\n",
       "      <td>120000</td>\n",
       "      <td>united states</td>\n",
       "      <td>medium</td>\n",
       "      <td>2023</td>\n",
       "    </tr>\n",
       "    <tr>\n",
       "      <th>639</th>\n",
       "      <td>data scientist</td>\n",
       "      <td>full-time</td>\n",
       "      <td>senior</td>\n",
       "      <td>expert</td>\n",
       "      <td>93300</td>\n",
       "      <td>united states dollar</td>\n",
       "      <td>united states</td>\n",
       "      <td>93300</td>\n",
       "      <td>united states</td>\n",
       "      <td>medium</td>\n",
       "      <td>2023</td>\n",
       "    </tr>\n",
       "    <tr>\n",
       "      <th>1538</th>\n",
       "      <td>analytics engineer</td>\n",
       "      <td>full-time</td>\n",
       "      <td>senior</td>\n",
       "      <td>expert</td>\n",
       "      <td>178250</td>\n",
       "      <td>united states dollar</td>\n",
       "      <td>united states</td>\n",
       "      <td>178250</td>\n",
       "      <td>united states</td>\n",
       "      <td>medium</td>\n",
       "      <td>2023</td>\n",
       "    </tr>\n",
       "    <tr>\n",
       "      <th>4416</th>\n",
       "      <td>data analyst</td>\n",
       "      <td>full-time</td>\n",
       "      <td>mid</td>\n",
       "      <td>intermediate</td>\n",
       "      <td>116000</td>\n",
       "      <td>united states dollar</td>\n",
       "      <td>united states</td>\n",
       "      <td>116000</td>\n",
       "      <td>united states</td>\n",
       "      <td>medium</td>\n",
       "      <td>2023</td>\n",
       "    </tr>\n",
       "    <tr>\n",
       "      <th>2052</th>\n",
       "      <td>research engineer</td>\n",
       "      <td>full-time</td>\n",
       "      <td>senior</td>\n",
       "      <td>expert</td>\n",
       "      <td>196000</td>\n",
       "      <td>united states dollar</td>\n",
       "      <td>united states</td>\n",
       "      <td>196000</td>\n",
       "      <td>united states</td>\n",
       "      <td>medium</td>\n",
       "      <td>2023</td>\n",
       "    </tr>\n",
       "    <tr>\n",
       "      <th>3263</th>\n",
       "      <td>research scientist</td>\n",
       "      <td>full-time</td>\n",
       "      <td>senior</td>\n",
       "      <td>expert</td>\n",
       "      <td>250000</td>\n",
       "      <td>united states dollar</td>\n",
       "      <td>united states</td>\n",
       "      <td>250000</td>\n",
       "      <td>united states</td>\n",
       "      <td>medium</td>\n",
       "      <td>2023</td>\n",
       "    </tr>\n",
       "    <tr>\n",
       "      <th>4288</th>\n",
       "      <td>data science manager</td>\n",
       "      <td>full-time</td>\n",
       "      <td>senior</td>\n",
       "      <td>expert</td>\n",
       "      <td>231250</td>\n",
       "      <td>united states dollar</td>\n",
       "      <td>united states</td>\n",
       "      <td>231250</td>\n",
       "      <td>united states</td>\n",
       "      <td>medium</td>\n",
       "      <td>2023</td>\n",
       "    </tr>\n",
       "    <tr>\n",
       "      <th>1936</th>\n",
       "      <td>analytics engineer</td>\n",
       "      <td>full-time</td>\n",
       "      <td>mid</td>\n",
       "      <td>intermediate</td>\n",
       "      <td>172200</td>\n",
       "      <td>united states dollar</td>\n",
       "      <td>united states</td>\n",
       "      <td>172200</td>\n",
       "      <td>united states</td>\n",
       "      <td>medium</td>\n",
       "      <td>2023</td>\n",
       "    </tr>\n",
       "  </tbody>\n",
       "</table>\n",
       "</div>"
      ],
      "text/plain": [
       "                 job_title employment_type experience_level expertise_level  \\\n",
       "2810          data analyst       full-time           senior          expert   \n",
       "1222        data scientist       full-time           senior          expert   \n",
       "2373    research scientist       full-time           senior          expert   \n",
       "639         data scientist       full-time           senior          expert   \n",
       "1538    analytics engineer       full-time           senior          expert   \n",
       "4416          data analyst       full-time              mid    intermediate   \n",
       "2052     research engineer       full-time           senior          expert   \n",
       "3263    research scientist       full-time           senior          expert   \n",
       "4288  data science manager       full-time           senior          expert   \n",
       "1936    analytics engineer       full-time              mid    intermediate   \n",
       "\n",
       "      salary       salary_currency company_location  salary_in_usd  \\\n",
       "2810  192000  united states dollar           canada         192000   \n",
       "1222  190200  united states dollar    united states         190200   \n",
       "2373  120000  united states dollar    united states         120000   \n",
       "639    93300  united states dollar    united states          93300   \n",
       "1538  178250  united states dollar    united states         178250   \n",
       "4416  116000  united states dollar    united states         116000   \n",
       "2052  196000  united states dollar    united states         196000   \n",
       "3263  250000  united states dollar    united states         250000   \n",
       "4288  231250  united states dollar    united states         231250   \n",
       "1936  172200  united states dollar    united states         172200   \n",
       "\n",
       "     employee_residence company_size  year  \n",
       "2810             canada       medium  2023  \n",
       "1222      united states       medium  2023  \n",
       "2373      united states       medium  2023  \n",
       "639       united states       medium  2023  \n",
       "1538      united states       medium  2023  \n",
       "4416      united states       medium  2023  \n",
       "2052      united states       medium  2023  \n",
       "3263      united states       medium  2023  \n",
       "4288      united states       medium  2023  \n",
       "1936      united states       medium  2023  "
      ]
     },
     "execution_count": 6,
     "metadata": {},
     "output_type": "execute_result"
    }
   ],
   "source": [
    "# check changes\n",
    "df.info()\n",
    "df.sample(10)"
   ]
  },
  {
   "cell_type": "code",
   "execution_count": 7,
   "metadata": {},
   "outputs": [
    {
     "data": {
      "text/plain": [
       "0"
      ]
     },
     "execution_count": 7,
     "metadata": {},
     "output_type": "execute_result"
    }
   ],
   "source": [
    "# check for duplicates in df\n",
    "df.duplicated().sum()"
   ]
  },
  {
   "cell_type": "code",
   "execution_count": 8,
   "metadata": {},
   "outputs": [],
   "source": [
    "# remove salaries for companies not located in US\n",
    "df = df[df.company_location=='united states']"
   ]
  },
  {
   "cell_type": "code",
   "execution_count": 9,
   "metadata": {},
   "outputs": [
    {
     "name": "stdout",
     "output_type": "stream",
     "text": [
      "['united states']\n",
      "['united states dollar' 'british pound sterling' 'euro' 'indian rupee'\n",
      " 'hungarian forint']\n",
      "['united states' 'uganda' 'italy' 'thailand' 'canada' 'philippines'\n",
      " 'germany' 'tunisia' 'belgium' 'turkey' 'nigeria' 'ghana' 'india' 'egypt'\n",
      " 'uzbekistan' 'argentina' 'france' 'portugal' 'kuwait' 'spain' 'china'\n",
      " 'costa rica' 'chile' 'bolivia, plurinational state of' 'malaysia'\n",
      " 'brazil' 'russian federation' 'viet nam' 'greece' 'bulgaria' 'hungary'\n",
      " 'puerto rico' 'romania']\n"
     ]
    }
   ],
   "source": [
    "# double check unique values in columns\n",
    "print(df.company_location.unique())\n",
    "print(df.salary_currency.unique())\n",
    "print(df.employee_residence.unique())"
   ]
  },
  {
   "cell_type": "code",
   "execution_count": 10,
   "metadata": {},
   "outputs": [],
   "source": [
    "# remove unnecessary columns\n",
    "df = df.drop(['company_location','salary','salary_currency','employee_residence'],axis=1)"
   ]
  },
  {
   "cell_type": "code",
   "execution_count": 11,
   "metadata": {},
   "outputs": [
    {
     "name": "stdout",
     "output_type": "stream",
     "text": [
      "<class 'pandas.core.frame.DataFrame'>\n",
      "Index: 4564 entries, 0 to 5734\n",
      "Data columns (total 7 columns):\n",
      " #   Column            Non-Null Count  Dtype \n",
      "---  ------            --------------  ----- \n",
      " 0   job_title         4564 non-null   object\n",
      " 1   employment_type   4564 non-null   object\n",
      " 2   experience_level  4564 non-null   object\n",
      " 3   expertise_level   4564 non-null   object\n",
      " 4   salary_in_usd     4564 non-null   int64 \n",
      " 5   company_size      4564 non-null   object\n",
      " 6   year              4564 non-null   int64 \n",
      "dtypes: int64(2), object(5)\n",
      "memory usage: 285.2+ KB\n"
     ]
    },
    {
     "data": {
      "text/html": [
       "<div>\n",
       "<style scoped>\n",
       "    .dataframe tbody tr th:only-of-type {\n",
       "        vertical-align: middle;\n",
       "    }\n",
       "\n",
       "    .dataframe tbody tr th {\n",
       "        vertical-align: top;\n",
       "    }\n",
       "\n",
       "    .dataframe thead th {\n",
       "        text-align: right;\n",
       "    }\n",
       "</style>\n",
       "<table border=\"1\" class=\"dataframe\">\n",
       "  <thead>\n",
       "    <tr style=\"text-align: right;\">\n",
       "      <th></th>\n",
       "      <th>job_title</th>\n",
       "      <th>employment_type</th>\n",
       "      <th>experience_level</th>\n",
       "      <th>expertise_level</th>\n",
       "      <th>salary_in_usd</th>\n",
       "      <th>company_size</th>\n",
       "      <th>year</th>\n",
       "    </tr>\n",
       "  </thead>\n",
       "  <tbody>\n",
       "    <tr>\n",
       "      <th>1570</th>\n",
       "      <td>data engineer</td>\n",
       "      <td>full-time</td>\n",
       "      <td>senior</td>\n",
       "      <td>expert</td>\n",
       "      <td>81500</td>\n",
       "      <td>medium</td>\n",
       "      <td>2023</td>\n",
       "    </tr>\n",
       "    <tr>\n",
       "      <th>600</th>\n",
       "      <td>data scientist</td>\n",
       "      <td>full-time</td>\n",
       "      <td>mid</td>\n",
       "      <td>intermediate</td>\n",
       "      <td>108000</td>\n",
       "      <td>medium</td>\n",
       "      <td>2023</td>\n",
       "    </tr>\n",
       "    <tr>\n",
       "      <th>804</th>\n",
       "      <td>data science</td>\n",
       "      <td>full-time</td>\n",
       "      <td>senior</td>\n",
       "      <td>expert</td>\n",
       "      <td>245000</td>\n",
       "      <td>medium</td>\n",
       "      <td>2023</td>\n",
       "    </tr>\n",
       "    <tr>\n",
       "      <th>4631</th>\n",
       "      <td>data analyst</td>\n",
       "      <td>full-time</td>\n",
       "      <td>senior</td>\n",
       "      <td>expert</td>\n",
       "      <td>110600</td>\n",
       "      <td>medium</td>\n",
       "      <td>2022</td>\n",
       "    </tr>\n",
       "    <tr>\n",
       "      <th>87</th>\n",
       "      <td>research analyst</td>\n",
       "      <td>full-time</td>\n",
       "      <td>senior</td>\n",
       "      <td>expert</td>\n",
       "      <td>150000</td>\n",
       "      <td>medium</td>\n",
       "      <td>2024</td>\n",
       "    </tr>\n",
       "    <tr>\n",
       "      <th>332</th>\n",
       "      <td>data engineer</td>\n",
       "      <td>full-time</td>\n",
       "      <td>senior</td>\n",
       "      <td>expert</td>\n",
       "      <td>162540</td>\n",
       "      <td>medium</td>\n",
       "      <td>2023</td>\n",
       "    </tr>\n",
       "    <tr>\n",
       "      <th>4336</th>\n",
       "      <td>applied scientist</td>\n",
       "      <td>full-time</td>\n",
       "      <td>senior</td>\n",
       "      <td>expert</td>\n",
       "      <td>180000</td>\n",
       "      <td>medium</td>\n",
       "      <td>2023</td>\n",
       "    </tr>\n",
       "    <tr>\n",
       "      <th>2001</th>\n",
       "      <td>research scientist</td>\n",
       "      <td>full-time</td>\n",
       "      <td>senior</td>\n",
       "      <td>expert</td>\n",
       "      <td>163200</td>\n",
       "      <td>medium</td>\n",
       "      <td>2023</td>\n",
       "    </tr>\n",
       "    <tr>\n",
       "      <th>1485</th>\n",
       "      <td>data architect</td>\n",
       "      <td>full-time</td>\n",
       "      <td>senior</td>\n",
       "      <td>expert</td>\n",
       "      <td>191600</td>\n",
       "      <td>medium</td>\n",
       "      <td>2023</td>\n",
       "    </tr>\n",
       "    <tr>\n",
       "      <th>718</th>\n",
       "      <td>business intelligence analyst</td>\n",
       "      <td>full-time</td>\n",
       "      <td>entry</td>\n",
       "      <td>junior</td>\n",
       "      <td>132567</td>\n",
       "      <td>medium</td>\n",
       "      <td>2023</td>\n",
       "    </tr>\n",
       "  </tbody>\n",
       "</table>\n",
       "</div>"
      ],
      "text/plain": [
       "                          job_title employment_type experience_level  \\\n",
       "1570                  data engineer       full-time           senior   \n",
       "600                  data scientist       full-time              mid   \n",
       "804                    data science       full-time           senior   \n",
       "4631                   data analyst       full-time           senior   \n",
       "87                 research analyst       full-time           senior   \n",
       "332                   data engineer       full-time           senior   \n",
       "4336              applied scientist       full-time           senior   \n",
       "2001             research scientist       full-time           senior   \n",
       "1485                 data architect       full-time           senior   \n",
       "718   business intelligence analyst       full-time            entry   \n",
       "\n",
       "     expertise_level  salary_in_usd company_size  year  \n",
       "1570          expert          81500       medium  2023  \n",
       "600     intermediate         108000       medium  2023  \n",
       "804           expert         245000       medium  2023  \n",
       "4631          expert         110600       medium  2022  \n",
       "87            expert         150000       medium  2024  \n",
       "332           expert         162540       medium  2023  \n",
       "4336          expert         180000       medium  2023  \n",
       "2001          expert         163200       medium  2023  \n",
       "1485          expert         191600       medium  2023  \n",
       "718           junior         132567       medium  2023  "
      ]
     },
     "execution_count": 11,
     "metadata": {},
     "output_type": "execute_result"
    }
   ],
   "source": [
    "# check changes\n",
    "df.info()\n",
    "df.sample(10)"
   ]
  },
  {
   "cell_type": "markdown",
   "metadata": {},
   "source": [
    "## Exploratory Data Exploration"
   ]
  },
  {
   "cell_type": "code",
   "execution_count": 29,
   "metadata": {},
   "outputs": [],
   "source": [
    "import matplotlib.pyplot as plt\n",
    "import plotly.express as px\n",
    "import seaborn as sns"
   ]
  },
  {
   "cell_type": "code",
   "execution_count": 19,
   "metadata": {},
   "outputs": [
    {
     "data": {
      "text/plain": [
       "array([[<Axes: title={'center': 'salary_in_usd'}>,\n",
       "        <Axes: title={'center': 'year'}>]], dtype=object)"
      ]
     },
     "execution_count": 19,
     "metadata": {},
     "output_type": "execute_result"
    },
    {
     "data": {
      "image/png": "[encoded data removed]",
      "text/plain": [
       "<Figure size 1400x600 with 2 Axes>"
      ]
     },
     "metadata": {},
     "output_type": "display_data"
    }
   ],
   "source": [
    "# distribution of numeric columns\n",
    "df.hist(figsize=(14,6))\n"
   ]
  },
  {
   "cell_type": "code",
   "execution_count": 20,
   "metadata": {},
   "outputs": [
    {
     "data": {
      "text/plain": [
       "<Axes: xlabel='employment_type', ylabel='count'>"
      ]
     },
     "execution_count": 20,
     "metadata": {},
     "output_type": "execute_result"
    },
    {
     "data": {
      "image/png": "[encoded data removed]",
      "text/plain": [
       "<Figure size 640x480 with 1 Axes>"
      ]
     },
     "metadata": {},
     "output_type": "display_data"
    }
   ],
   "source": [
    "# countplot of employment type\n",
    "sns.countplot(df,x='employment_type')"
   ]
  },
  {
   "cell_type": "code",
   "execution_count": 24,
   "metadata": {},
   "outputs": [
    {
     "data": {
      "text/plain": [
       "<Axes: xlabel='experience_level', ylabel='count'>"
      ]
     },
     "execution_count": 24,
     "metadata": {},
     "output_type": "execute_result"
    },
    {
     "data": {
      "image/png": "[encoded data removed]",
      "text/plain": [
       "<Figure size 640x480 with 1 Axes>"
      ]
     },
     "metadata": {},
     "output_type": "display_data"
    }
   ],
   "source": [
    "# countplot of experience level\n",
    "sns.countplot(df,x='experience_level')"
   ]
  },
  {
   "cell_type": "code",
   "execution_count": 26,
   "metadata": {},
   "outputs": [
    {
     "data": {
      "text/plain": [
       "<Axes: xlabel='expertise_level', ylabel='count'>"
      ]
     },
     "execution_count": 26,
     "metadata": {},
     "output_type": "execute_result"
    },
    {
     "data": {
      "image/png": "[encoded data removed]",
      "text/plain": [
       "<Figure size 640x480 with 1 Axes>"
      ]
     },
     "metadata": {},
     "output_type": "display_data"
    }
   ],
   "source": [
    "# countplot of expertise level\n",
    "sns.countplot(df,x='expertise_level')"
   ]
  },
  {
   "cell_type": "code",
   "execution_count": 27,
   "metadata": {},
   "outputs": [
    {
     "data": {
      "text/plain": [
       "<Axes: xlabel='company_size', ylabel='count'>"
      ]
     },
     "execution_count": 27,
     "metadata": {},
     "output_type": "execute_result"
    },
    {
     "data": {
      "image/png": "[encoded data removed]",
      "text/plain": [
       "<Figure size 640x480 with 1 Axes>"
      ]
     },
     "metadata": {},
     "output_type": "display_data"
    }
   ],
   "source": [
    "# countplot of company size\n",
    "sns.countplot(df,x='company_size')"
   ]
  },
  {
   "cell_type": "code",
   "execution_count": 31,
   "metadata": {},
   "outputs": [],
   "source": [
    "# distribution of salaries based on employment type\n",
    "hist1 = px.histogram(df,x='salary_in_usd',color='employment_type')"
   ]
  },
  {
   "cell_type": "code",
   "execution_count": null,
   "metadata": {},
   "outputs": [],
   "source": []
  }
 ],
 "metadata": {
  "kernelspec": {
   "display_name": "pytorch",
   "language": "python",
   "name": "python3"
  },
  "language_info": {
   "codemirror_mode": {
    "name": "ipython",
    "version": 3
   },
   "file_extension": ".py",
   "mimetype": "text/x-python",
   "name": "python",
   "nbconvert_exporter": "python",
   "pygments_lexer": "ipython3",
   "version": "3.9.19"
  }
 },
 "nbformat": 4,
 "nbformat_minor": 2
}
